{
  "nbformat": 4,
  "nbformat_minor": 0,
  "metadata": {
    "colab": {
      "name": "Face-OneShot.ipynb",
      "version": "0.3.2",
      "provenance": [],
      "collapsed_sections": []
    },
    "kernelspec": {
      "name": "python3",
      "display_name": "Python 3"
    },
    "accelerator": "GPU"
  },
  "cells": [
    {
      "metadata": {
        "id": "-sPL7sGBBrkR",
        "colab_type": "text"
      },
      "cell_type": "markdown",
      "source": [
        "### author: zabiralnazi@yahoo.com\n",
        "> One-Shot-Learning with Siamese Network on a small Face dataset"
      ]
    },
    {
      "metadata": {
        "id": "drrk5tlBA65q",
        "colab_type": "code",
        "outputId": "6aa3bddd-fcaa-48db-f7b3-ff4056203243",
        "colab": {
          "base_uri": "https://localhost:8080/",
          "height": 55
        }
      },
      "cell_type": "code",
      "source": [
        "# Load the Drive helper and mount\n",
        "from google.colab import drive\n",
        "\n",
        "# This will prompt for authorization.\n",
        "drive.mount('/content/drive')"
      ],
      "execution_count": 0,
      "outputs": [
        {
          "output_type": "stream",
          "text": [
            "Drive already mounted at /content/drive; to attempt to forcibly remount, call drive.mount(\"/content/drive\", force_remount=True).\n"
          ],
          "name": "stdout"
        }
      ]
    },
    {
      "metadata": {
        "id": "hfMNFh4HBhyc",
        "colab_type": "code",
        "outputId": "c8e8ff7b-81b8-4a06-dd15-eb4b64e4c8c3",
        "colab": {
          "base_uri": "https://localhost:8080/",
          "height": 35
        }
      },
      "cell_type": "code",
      "source": [
        "% cd /content/drive/My Drive"
      ],
      "execution_count": 0,
      "outputs": [
        {
          "output_type": "stream",
          "text": [
            "/content/drive/My Drive\n"
          ],
          "name": "stdout"
        }
      ]
    },
    {
      "metadata": {
        "id": "l_FCNi_YCpZ4",
        "colab_type": "code",
        "outputId": "93f25e2d-b8f1-440c-9a1a-a8af57e60086",
        "colab": {
          "base_uri": "https://localhost:8080/",
          "height": 35
        }
      },
      "cell_type": "code",
      "source": [
        "import os\n",
        "print(os.stat('data.zip').st_size/1000000000) # GigaBytes (approx)"
      ],
      "execution_count": 0,
      "outputs": [
        {
          "output_type": "stream",
          "text": [
            "0.006140496\n"
          ],
          "name": "stdout"
        }
      ]
    },
    {
      "metadata": {
        "id": "vU5UkmkZCu8n",
        "colab_type": "code",
        "colab": {}
      },
      "cell_type": "code",
      "source": [
        "# unzip to train folder\n",
        "data_seg = 'data.zip'\n",
        "import zipfile\n",
        "zip_ref = zipfile.ZipFile(data_seg, 'r')\n",
        "zip_ref.extractall('train_face')\n",
        "zip_ref.close()"
      ],
      "execution_count": 0,
      "outputs": []
    },
    {
      "metadata": {
        "id": "wO_OjVytDFBA",
        "colab_type": "code",
        "outputId": "70fafe44-2ec1-4527-e321-759f8ef401be",
        "colab": {
          "base_uri": "https://localhost:8080/",
          "height": 35
        }
      },
      "cell_type": "code",
      "source": [
        "% cd /content/drive/My Drive/train_face/data"
      ],
      "execution_count": 0,
      "outputs": [
        {
          "output_type": "stream",
          "text": [
            "/content/drive/My Drive/train_face/data\n"
          ],
          "name": "stdout"
        }
      ]
    },
    {
      "metadata": {
        "id": "5QIYklcCDG5W",
        "colab_type": "code",
        "outputId": "efe57bd5-0c16-443b-c6ca-99931b208b9e",
        "colab": {
          "base_uri": "https://localhost:8080/",
          "height": 35
        }
      },
      "cell_type": "code",
      "source": [
        "! ls"
      ],
      "execution_count": 0,
      "outputs": [
        {
          "output_type": "stream",
          "text": [
            "0  1  2  3\n"
          ],
          "name": "stdout"
        }
      ]
    },
    {
      "metadata": {
        "id": "qVNJQCYhDMZ_",
        "colab_type": "code",
        "colab": {}
      },
      "cell_type": "code",
      "source": [
        "# 4 classes for faces of 4 different people"
      ],
      "execution_count": 0,
      "outputs": []
    },
    {
      "metadata": {
        "id": "m5k7_UYJD1yE",
        "colab_type": "code",
        "outputId": "03a7a5bf-0543-4e33-f69b-a066403ba2fc",
        "colab": {
          "base_uri": "https://localhost:8080/",
          "height": 350
        }
      },
      "cell_type": "code",
      "source": [
        "import cv2\n",
        "import matplotlib.pyplot as plt\n",
        "a = cv2.imread('0/rita0.jpg')\n",
        "plt.imshow(cv2.resize(a, (100, 150)))\n",
        "plt.show()"
      ],
      "execution_count": 0,
      "outputs": [
        {
          "output_type": "display_data",
          "data": {
            "image/png": "[encoded data removed]",
            "text/plain": [
              "<matplotlib.figure.Figure at 0x7f68c98c3b00>"
            ]
          },
          "metadata": {
            "tags": []
          }
        }
      ]
    },
    {
      "metadata": {
        "id": "BOqT6riwmc5U",
        "colab_type": "code",
        "outputId": "e8ef8e93-4f05-4000-a6f8-567314d3c749",
        "colab": {
          "base_uri": "https://localhost:8080/",
          "height": 35
        }
      },
      "cell_type": "code",
      "source": [
        "# siamese net\n",
        "# https://github.com/sorenbouma/keras-oneshot/blob/master/SiameseNet.ipynb\n",
        "\n",
        "from keras.layers import Input, Conv2D, Lambda, merge, Dense, Flatten,MaxPooling2D, Dropout\n",
        "from keras.models import Model, Sequential\n",
        "from keras.regularizers import l2\n",
        "from keras import backend as K\n",
        "from keras.optimizers import SGD,Adam\n",
        "from keras.losses import binary_crossentropy\n",
        "import numpy.random as rng\n",
        "import numpy as np\n",
        "import os\n",
        "import pickle\n",
        "import matplotlib.pyplot as plt\n",
        "import seaborn as sns\n",
        "from sklearn.utils import shuffle\n",
        "%matplotlib inline\n",
        "def W_init(shape,name=None):\n",
        "    \"\"\"Initialize weights as in paper\"\"\"\n",
        "    values = rng.normal(loc=0,scale=1e-2,size=shape)\n",
        "    return K.variable(values,name=name)\n",
        "#//TODO: figure out how to initialize layer biases in keras.\n",
        "def b_init(shape,name=None):\n",
        "    \"\"\"Initialize bias as in paper\"\"\"\n",
        "    values=rng.normal(loc=0.5,scale=1e-2,size=shape)\n",
        "    return K.variable(values,name=name)\n",
        "\n",
        "input_shape = (100, 150, 1)\n",
        "left_input = Input(input_shape)\n",
        "right_input = Input(input_shape)\n",
        "#build convnet to use in each siamese 'leg'\n",
        "convnet = Sequential()\n",
        "convnet.add(Conv2D(32,(3,3),activation='relu',input_shape=input_shape,\n",
        "                   kernel_initializer=W_init,kernel_regularizer=l2(2e-4)))\n",
        "convnet.add(MaxPooling2D())\n",
        "#convnet.add(Conv2D(64,(3,3),activation='relu',\n",
        "#                   kernel_regularizer=l2(2e-4),kernel_initializer=W_init,bias_initializer=b_init))\n",
        "#convnet.add(MaxPooling2D())\n",
        "#convnet.add(Conv2D(128,(3,3),activation='relu',kernel_initializer=W_init,kernel_regularizer=l2(2e-4),bias_initializer=b_init))\n",
        "#convnet.add(MaxPooling2D())\n",
        "#convnet.add(Conv2D(256,(3,3),activation='relu',kernel_initializer=W_init,kernel_regularizer=l2(2e-4),bias_initializer=b_init))\n",
        "convnet.add(Flatten())\n",
        "#convnet.add(Dense(1024,activation=\"sigmoid\",kernel_regularizer=l2(1e-3),kernel_initializer=W_init,bias_initializer=b_init))\n",
        "#convnet.add(Dropout(0.2))\n",
        "\n",
        "convnet.add(Dense(10,activation=\"sigmoid\",kernel_regularizer=l2(1e-3),kernel_initializer=W_init,bias_initializer=b_init))\n",
        "convnet.add(Dropout(0.2))\n",
        "#call the convnet Sequential model on each of the input tensors so params will be shared\n",
        "encoded_l = convnet(left_input)\n",
        "encoded_r = convnet(right_input)\n",
        "#layer to merge two encoded inputs with the l1 distance between them\n",
        "L2_layer = Lambda(lambda tensors:K.abs((tensors[0] - tensors[1])*(tensors[0] - tensors[1]))) # \n",
        "#call this layer on list of two input tensors.\n",
        "L2_distance = L2_layer([encoded_l, encoded_r])\n",
        "prediction = Dense(1,activation='sigmoid',bias_initializer=b_init)(L2_distance)\n",
        "siamese_net = Model(inputs=[left_input,right_input],outputs=prediction)\n",
        "\n",
        "optimizer = Adam(0.00001)\n",
        "#//TODO: get layerwise learning rates and momentum annealing scheme described in paperworking\n",
        "siamese_net.compile(loss=\"binary_crossentropy\",optimizer=optimizer, metrics=['binary_accuracy'])\n",
        "\n",
        "siamese_net.count_params()"
      ],
      "execution_count": 0,
      "outputs": [
        {
          "output_type": "execute_result",
          "data": {
            "text/plain": [
              "1160661"
            ]
          },
          "metadata": {
            "tags": []
          },
          "execution_count": 52
        }
      ]
    },
    {
      "metadata": {
        "id": "rJ_IlII7mwdS",
        "colab_type": "code",
        "outputId": "a18e1f53-e29b-439d-b2c8-4ea1cf9c1160",
        "colab": {
          "base_uri": "https://localhost:8080/",
          "height": 363
        }
      },
      "cell_type": "code",
      "source": [
        "siamese_net.summary()"
      ],
      "execution_count": 0,
      "outputs": [
        {
          "output_type": "stream",
          "text": [
            "__________________________________________________________________________________________________\n",
            "Layer (type)                    Output Shape         Param #     Connected to                     \n",
            "==================================================================================================\n",
            "input_1 (InputLayer)            (None, 100, 150, 1)  0                                            \n",
            "__________________________________________________________________________________________________\n",
            "input_2 (InputLayer)            (None, 100, 150, 1)  0                                            \n",
            "__________________________________________________________________________________________________\n",
            "sequential_1 (Sequential)       (None, 512)          8469248     input_1[0][0]                    \n",
            "                                                                 input_2[0][0]                    \n",
            "__________________________________________________________________________________________________\n",
            "lambda_1 (Lambda)               (None, 512)          0           sequential_1[1][0]               \n",
            "                                                                 sequential_1[2][0]               \n",
            "__________________________________________________________________________________________________\n",
            "dense_2 (Dense)                 (None, 1)            513         lambda_1[0][0]                   \n",
            "==================================================================================================\n",
            "Total params: 8,469,761\n",
            "Trainable params: 8,469,761\n",
            "Non-trainable params: 0\n",
            "__________________________________________________________________________________________________\n"
          ],
          "name": "stdout"
        }
      ]
    },
    {
      "metadata": {
        "id": "WBoihD1WnK0r",
        "colab_type": "code",
        "colab": {}
      },
      "cell_type": "code",
      "source": [
        "x1 = np.zeros((100,105,105,1), dtype = 'float32')\n",
        "x2 = np.zeros((100,105,105,1), dtype = 'float32')\n",
        "x3 = [x1, x2]\n",
        "x3 = np.array(x3)\n",
        "y = np.zeros((100,), dtype = 'float32')"
      ],
      "execution_count": 0,
      "outputs": []
    },
    {
      "metadata": {
        "id": "k3Q_reNPnb_s",
        "colab_type": "code",
        "outputId": "0e8596cd-8afd-4c06-9267-505ab5e1a9bc",
        "colab": {
          "base_uri": "https://localhost:8080/",
          "height": 35
        }
      },
      "cell_type": "code",
      "source": [
        "x3.shape"
      ],
      "execution_count": 0,
      "outputs": [
        {
          "output_type": "execute_result",
          "data": {
            "text/plain": [
              "(2, 100, 105, 105, 1)"
            ]
          },
          "metadata": {
            "tags": []
          },
          "execution_count": 12
        }
      ]
    },
    {
      "metadata": {
        "id": "hzTta6e0vmwv",
        "colab_type": "code",
        "colab": {}
      },
      "cell_type": "code",
      "source": [
        "# prepare data\n",
        "import glob\n",
        "\n",
        "num_class = 4\n",
        "files = []\n",
        "for nc in range(4):\n",
        "  path = str(nc) + '/*'\n",
        "  fimg = []\n",
        "  for f in glob.glob(path):\n",
        "    fimg.append(f)\n",
        "  files.append(fimg)\n",
        "  "
      ],
      "execution_count": 0,
      "outputs": []
    },
    {
      "metadata": {
        "id": "taRzHrVIwtit",
        "colab_type": "code",
        "outputId": "46d87d99-16f9-4251-e894-3b95caa39e3c",
        "colab": {
          "base_uri": "https://localhost:8080/",
          "height": 55
        }
      },
      "cell_type": "code",
      "source": [
        "print(files)"
      ],
      "execution_count": 0,
      "outputs": [
        {
          "output_type": "stream",
          "text": [
            "[['0/rita0.jpg', '0/rita1.jpg', '0/rita2.jpg', '0/rita3.jpg', '0/rita4.jpg', '0/rita5.jpg', '0/rita6.jpg', '0/rita7.jpg', '0/rita8.jpg', '0/rita9.jpg'], ['1/nabil0.png', '1/nabil1.png', '1/nabil2.jpg', '1/nabil3.png', '1/nabil4.png', '1/nabil5.png', '1/nabil6.png', '1/nabil7.png', '1/nabil8.png', '1/nabil9.png'], ['2/adam0.jpg', '2/adam1.jpg', '2/adam2.jpg', '2/adam3.jpg', '2/adam4.jpg', '2/adam5.jpg', '2/adam6.jpg', '2/adam7.jpg', '2/adam8.jpg', '2/adam9.jpg'], ['3/jess0.jpg', '3/jess1.jpg', '3/jess2.jpg', '3/jess3.jpg', '3/jess4.jpg', '3/jess5.jpg', '3/jess6.jpg', '3/jess7.jpg', '3/jess8.jpg', '3/jess9.jpg']]\n"
          ],
          "name": "stdout"
        }
      ]
    },
    {
      "metadata": {
        "id": "tUX0KqJJw_tw",
        "colab_type": "code",
        "outputId": "416a22d1-11a6-40a7-e6bc-f5bb4c84e469",
        "colab": {
          "base_uri": "https://localhost:8080/",
          "height": 35
        }
      },
      "cell_type": "code",
      "source": [
        "anchors = [a[0] for a in files]\n",
        "print(anchors)"
      ],
      "execution_count": 0,
      "outputs": [
        {
          "output_type": "stream",
          "text": [
            "['0/rita0.jpg', '1/nabil0.png', '2/adam0.jpg', '3/jess0.jpg']\n"
          ],
          "name": "stdout"
        }
      ]
    },
    {
      "metadata": {
        "id": "xfnP9O4QxSqQ",
        "colab_type": "code",
        "outputId": "6d3fe344-4b2f-4397-bd71-6c263059be7f",
        "colab": {
          "base_uri": "https://localhost:8080/",
          "height": 73
        }
      },
      "cell_type": "code",
      "source": [
        "split_factor = 0.6\n",
        "split = int(len(files[0])*split_factor)\n",
        "trains = [a[1:split] for a in files]\n",
        "tests = [a[split:] for a in files]\n",
        "print(trains)\n",
        "print(tests)"
      ],
      "execution_count": 0,
      "outputs": [
        {
          "output_type": "stream",
          "text": [
            "[['0/rita1.jpg', '0/rita2.jpg', '0/rita3.jpg', '0/rita4.jpg', '0/rita5.jpg'], ['1/nabil1.png', '1/nabil2.jpg', '1/nabil3.png', '1/nabil4.png', '1/nabil5.png'], ['2/adam1.jpg', '2/adam2.jpg', '2/adam3.jpg', '2/adam4.jpg', '2/adam5.jpg'], ['3/jess1.jpg', '3/jess2.jpg', '3/jess3.jpg', '3/jess4.jpg', '3/jess5.jpg']]\n",
            "[['0/rita6.jpg', '0/rita7.jpg', '0/rita8.jpg', '0/rita9.jpg'], ['1/nabil6.png', '1/nabil7.png', '1/nabil8.png', '1/nabil9.png'], ['2/adam6.jpg', '2/adam7.jpg', '2/adam8.jpg', '2/adam9.jpg'], ['3/jess6.jpg', '3/jess7.jpg', '3/jess8.jpg', '3/jess9.jpg']]\n"
          ],
          "name": "stdout"
        }
      ]
    },
    {
      "metadata": {
        "id": "D3MOUzRCzqeM",
        "colab_type": "code",
        "outputId": "a43b8cd4-fb33-45e9-af4a-345d7332f59b",
        "colab": {
          "base_uri": "https://localhost:8080/",
          "height": 35
        }
      },
      "cell_type": "code",
      "source": [
        "anchor_imgs = [cv2.resize(cv2.imread(a,0), (100,150)) for a in anchors]\n",
        "print(len(anchor_imgs))"
      ],
      "execution_count": 0,
      "outputs": [
        {
          "output_type": "stream",
          "text": [
            "4\n"
          ],
          "name": "stdout"
        }
      ]
    },
    {
      "metadata": {
        "id": "ltxhEIYA0X24",
        "colab_type": "code",
        "outputId": "1b372f47-2fcd-4f85-bfdd-c5234f11618b",
        "colab": {
          "base_uri": "https://localhost:8080/",
          "height": 53
        }
      },
      "cell_type": "code",
      "source": [
        "train_imgs = [[cv2.resize(cv2.imread(a,0), (100,150)) for a in x] for x in trains]\n",
        "print(len(train_imgs))\n",
        "print(len(train_imgs[0]))"
      ],
      "execution_count": 0,
      "outputs": [
        {
          "output_type": "stream",
          "text": [
            "4\n",
            "5\n"
          ],
          "name": "stdout"
        }
      ]
    },
    {
      "metadata": {
        "id": "qsSkQrPT1UxH",
        "colab_type": "code",
        "outputId": "a477002f-83ca-46cf-ebe9-5d8287452445",
        "colab": {
          "base_uri": "https://localhost:8080/",
          "height": 53
        }
      },
      "cell_type": "code",
      "source": [
        "test_imgs = [[cv2.resize(cv2.imread(a,0), (100,150)) for a in x] for x in tests]\n",
        "print(len(test_imgs))\n",
        "print(len(test_imgs[0]))"
      ],
      "execution_count": 0,
      "outputs": [
        {
          "output_type": "stream",
          "text": [
            "4\n",
            "4\n"
          ],
          "name": "stdout"
        }
      ]
    },
    {
      "metadata": {
        "id": "nAxIbtnF1k9I",
        "colab_type": "code",
        "colab": {}
      },
      "cell_type": "code",
      "source": [
        "# x1, x2, y\n",
        "# x1 contains the anchor images\n",
        "# x2 contains the training/test images\n",
        "# if x1 and x2 contain the images of same class then y = 1\n",
        "# if x1 and x2 do not contain the images of same class then y = 0\n",
        "\n",
        "x1 = []\n",
        "x2 = []\n",
        "y = []\n",
        "\n",
        "for a_class in range(num_class):\n",
        "  # on a specific anchor image of a specific class\n",
        "  for t_class in range(num_class):\n",
        "    for imgs in train_imgs[t_class]:\n",
        "      x1.append(np.reshape(anchor_imgs[a_class], (100,150,1)))\n",
        "      x2.append(np.reshape(imgs, (100,150,1)))\n",
        "      if a_class == t_class:\n",
        "        y.append(1)\n",
        "      else:\n",
        "        y.append(0)"
      ],
      "execution_count": 0,
      "outputs": []
    },
    {
      "metadata": {
        "id": "rifJdY5O3afC",
        "colab_type": "code",
        "outputId": "bc8d72a7-4446-465a-e348-d838487ef4b9",
        "colab": {
          "base_uri": "https://localhost:8080/",
          "height": 108
        }
      },
      "cell_type": "code",
      "source": [
        "print(len(x1))\n",
        "print(len(x2))\n",
        "print(len(y))\n",
        "print(x1[0].shape)\n",
        "print(x2[0].shape)"
      ],
      "execution_count": 0,
      "outputs": [
        {
          "output_type": "stream",
          "text": [
            "80\n",
            "80\n",
            "80\n",
            "(100, 150, 1)\n",
            "(100, 150, 1)\n"
          ],
          "name": "stdout"
        }
      ]
    },
    {
      "metadata": {
        "id": "DpZhwGG2YdQV",
        "colab_type": "code",
        "outputId": "91cf70af-e86e-473d-a382-4efcb93ca9ea",
        "colab": {
          "base_uri": "https://localhost:8080/",
          "height": 35
        }
      },
      "cell_type": "code",
      "source": [
        "x1 = np.array(x1)\n",
        "x2 = np.array(x2)\n",
        "y = np.array(y)\n",
        "x1.shape"
      ],
      "execution_count": 0,
      "outputs": [
        {
          "output_type": "execute_result",
          "data": {
            "text/plain": [
              "(80, 100, 150, 1)"
            ]
          },
          "metadata": {
            "tags": []
          },
          "execution_count": 56
        }
      ]
    },
    {
      "metadata": {
        "id": "4V781NZKYr3c",
        "colab_type": "code",
        "colab": {}
      },
      "cell_type": "code",
      "source": [
        "x1 = x1/255.\n",
        "x2 = x2/255.\n",
        "print(np.max(x1))\n",
        "print(np.min(x2))\n",
        "print(np.max(x1))\n",
        "print(np.min(x2))\n",
        "print(np.mean(x1))\n",
        "print(np.mean(x2))"
      ],
      "execution_count": 0,
      "outputs": []
    },
    {
      "metadata": {
        "id": "jrQUHy9byJ71",
        "colab_type": "code",
        "colab": {}
      },
      "cell_type": "code",
      "source": [
        "import random\n",
        "z = list(zip(x1,x2,y))\n",
        "random.shuffle(z)"
      ],
      "execution_count": 0,
      "outputs": []
    },
    {
      "metadata": {
        "id": "MKCNNz3lyRqC",
        "colab_type": "code",
        "colab": {}
      },
      "cell_type": "code",
      "source": [
        "x1 = [a[0] for a in z]\n",
        "x2 = [a[1] for a in z]\n",
        "y = [a[2] for a in z]"
      ],
      "execution_count": 0,
      "outputs": []
    },
    {
      "metadata": {
        "id": "u-AwXiFMye8i",
        "colab_type": "code",
        "outputId": "e22c38b6-cb35-48db-aa8d-8a70dd589f06",
        "colab": {
          "base_uri": "https://localhost:8080/",
          "height": 35
        }
      },
      "cell_type": "code",
      "source": [
        "x1 = np.array(x1)\n",
        "x2 = np.array(x2)\n",
        "y = np.array(y)\n",
        "x1.shape"
      ],
      "execution_count": 0,
      "outputs": [
        {
          "output_type": "execute_result",
          "data": {
            "text/plain": [
              "(80, 100, 150, 1)"
            ]
          },
          "metadata": {
            "tags": []
          },
          "execution_count": 67
        }
      ]
    },
    {
      "metadata": {
        "id": "f-U8nvI0ymbr",
        "colab_type": "code",
        "outputId": "9c1832f7-42a2-4715-f69f-1a1bab72cb8b",
        "colab": {
          "base_uri": "https://localhost:8080/",
          "height": 35
        }
      },
      "cell_type": "code",
      "source": [
        "y.shape"
      ],
      "execution_count": 0,
      "outputs": [
        {
          "output_type": "execute_result",
          "data": {
            "text/plain": [
              "(80,)"
            ]
          },
          "metadata": {
            "tags": []
          },
          "execution_count": 68
        }
      ]
    },
    {
      "metadata": {
        "id": "1R6UHtJ85_Cw",
        "colab_type": "code",
        "colab": {}
      },
      "cell_type": "code",
      "source": [
        "y_cop = y[:]\n",
        "y_cop[y==1.] = 0.\n",
        "y_cop[y==0.] = 1."
      ],
      "execution_count": 0,
      "outputs": []
    },
    {
      "metadata": {
        "id": "xMUeiirKXVrb",
        "colab_type": "code",
        "colab": {}
      },
      "cell_type": "code",
      "source": [
        "class_weight = {0: 1.,\n",
        "                1: 1.}"
      ],
      "execution_count": 0,
      "outputs": []
    },
    {
      "metadata": {
        "id": "RlzbiJN1npRC",
        "colab_type": "code",
        "outputId": "00178714-c2c7-4026-f46a-94999e3bfab3",
        "colab": {
          "base_uri": "https://localhost:8080/",
          "height": 1529
        }
      },
      "cell_type": "code",
      "source": [
        "siamese_net.fit([x1, x2],y_cop,epochs = 40, batch_size = 16, verbose = 1, validation_split = 0.3,\n",
        "               class_weight = class_weight, shuffle = True)"
      ],
      "execution_count": 0,
      "outputs": [
        {
          "output_type": "stream",
          "text": [
            "Train on 56 samples, validate on 24 samples\n",
            "Epoch 1/40\n",
            "56/56 [==============================] - 0s 2ms/step - loss: 0.9167 - binary_accuracy: 0.4107 - val_loss: 0.5527 - val_binary_accuracy: 1.0000\n",
            "Epoch 2/40\n",
            "56/56 [==============================] - 0s 2ms/step - loss: 1.0008 - binary_accuracy: 0.2500 - val_loss: 0.5525 - val_binary_accuracy: 1.0000\n",
            "Epoch 3/40\n",
            "56/56 [==============================] - 0s 2ms/step - loss: 0.9233 - binary_accuracy: 0.3393 - val_loss: 0.5522 - val_binary_accuracy: 1.0000\n",
            "Epoch 4/40\n",
            "56/56 [==============================] - 0s 2ms/step - loss: 0.9337 - binary_accuracy: 0.3036 - val_loss: 0.5519 - val_binary_accuracy: 1.0000\n",
            "Epoch 5/40\n",
            "56/56 [==============================] - 0s 2ms/step - loss: 0.9071 - binary_accuracy: 0.3929 - val_loss: 0.5516 - val_binary_accuracy: 1.0000\n",
            "Epoch 6/40\n",
            "56/56 [==============================] - 0s 2ms/step - loss: 0.9114 - binary_accuracy: 0.4107 - val_loss: 0.5513 - val_binary_accuracy: 1.0000\n",
            "Epoch 7/40\n",
            "56/56 [==============================] - 0s 2ms/step - loss: 0.8946 - binary_accuracy: 0.3571 - val_loss: 0.5510 - val_binary_accuracy: 1.0000\n",
            "Epoch 8/40\n",
            "56/56 [==============================] - 0s 2ms/step - loss: 0.8978 - binary_accuracy: 0.4643 - val_loss: 0.5507 - val_binary_accuracy: 1.0000\n",
            "Epoch 9/40\n",
            "56/56 [==============================] - 0s 2ms/step - loss: 0.8697 - binary_accuracy: 0.4286 - val_loss: 0.5503 - val_binary_accuracy: 1.0000\n",
            "Epoch 10/40\n",
            "56/56 [==============================] - 0s 2ms/step - loss: 0.7606 - binary_accuracy: 0.5536 - val_loss: 0.5500 - val_binary_accuracy: 1.0000\n",
            "Epoch 11/40\n",
            "56/56 [==============================] - 0s 2ms/step - loss: 0.9140 - binary_accuracy: 0.3036 - val_loss: 0.5497 - val_binary_accuracy: 1.0000\n",
            "Epoch 12/40\n",
            "56/56 [==============================] - 0s 2ms/step - loss: 0.8340 - binary_accuracy: 0.4286 - val_loss: 0.5493 - val_binary_accuracy: 1.0000\n",
            "Epoch 13/40\n",
            "56/56 [==============================] - 0s 2ms/step - loss: 0.7967 - binary_accuracy: 0.4821 - val_loss: 0.5490 - val_binary_accuracy: 1.0000\n",
            "Epoch 14/40\n",
            "56/56 [==============================] - 0s 2ms/step - loss: 0.8514 - binary_accuracy: 0.4107 - val_loss: 0.5486 - val_binary_accuracy: 1.0000\n",
            "Epoch 15/40\n",
            "56/56 [==============================] - 0s 2ms/step - loss: 0.8741 - binary_accuracy: 0.3571 - val_loss: 0.5481 - val_binary_accuracy: 1.0000\n",
            "Epoch 16/40\n",
            "56/56 [==============================] - 0s 2ms/step - loss: 0.8564 - binary_accuracy: 0.4286 - val_loss: 0.5476 - val_binary_accuracy: 1.0000\n",
            "Epoch 17/40\n",
            "56/56 [==============================] - 0s 2ms/step - loss: 0.8097 - binary_accuracy: 0.4464 - val_loss: 0.5471 - val_binary_accuracy: 1.0000\n",
            "Epoch 18/40\n",
            "56/56 [==============================] - 0s 2ms/step - loss: 0.7710 - binary_accuracy: 0.5714 - val_loss: 0.5466 - val_binary_accuracy: 1.0000\n",
            "Epoch 19/40\n",
            "56/56 [==============================] - 0s 2ms/step - loss: 0.7422 - binary_accuracy: 0.5893 - val_loss: 0.5462 - val_binary_accuracy: 1.0000\n",
            "Epoch 20/40\n",
            "56/56 [==============================] - 0s 2ms/step - loss: 0.7018 - binary_accuracy: 0.6786 - val_loss: 0.5459 - val_binary_accuracy: 1.0000\n",
            "Epoch 21/40\n",
            "56/56 [==============================] - 0s 2ms/step - loss: 0.7156 - binary_accuracy: 0.6250 - val_loss: 0.5456 - val_binary_accuracy: 1.0000\n",
            "Epoch 22/40\n",
            "56/56 [==============================] - 0s 2ms/step - loss: 0.6669 - binary_accuracy: 0.8393 - val_loss: 0.5455 - val_binary_accuracy: 1.0000\n",
            "Epoch 23/40\n",
            "56/56 [==============================] - 0s 2ms/step - loss: 0.6923 - binary_accuracy: 0.7321 - val_loss: 0.5453 - val_binary_accuracy: 1.0000\n",
            "Epoch 24/40\n",
            "56/56 [==============================] - 0s 2ms/step - loss: 0.6286 - binary_accuracy: 0.9821 - val_loss: 0.5453 - val_binary_accuracy: 1.0000\n",
            "Epoch 25/40\n",
            "56/56 [==============================] - 0s 2ms/step - loss: 0.6249 - binary_accuracy: 0.9464 - val_loss: 0.5453 - val_binary_accuracy: 1.0000\n",
            "Epoch 26/40\n",
            "56/56 [==============================] - 0s 2ms/step - loss: 0.6023 - binary_accuracy: 0.9821 - val_loss: 0.5453 - val_binary_accuracy: 1.0000\n",
            "Epoch 27/40\n",
            "56/56 [==============================] - 0s 2ms/step - loss: 0.5855 - binary_accuracy: 1.0000 - val_loss: 0.5454 - val_binary_accuracy: 1.0000\n",
            "Epoch 28/40\n",
            "56/56 [==============================] - 0s 2ms/step - loss: 0.5723 - binary_accuracy: 1.0000 - val_loss: 0.5455 - val_binary_accuracy: 1.0000\n",
            "Epoch 29/40\n",
            "56/56 [==============================] - 0s 2ms/step - loss: 0.5592 - binary_accuracy: 1.0000 - val_loss: 0.5456 - val_binary_accuracy: 1.0000\n",
            "Epoch 30/40\n",
            "56/56 [==============================] - 0s 2ms/step - loss: 0.5637 - binary_accuracy: 1.0000 - val_loss: 0.5458 - val_binary_accuracy: 1.0000\n",
            "Epoch 31/40\n",
            "56/56 [==============================] - 0s 2ms/step - loss: 0.5399 - binary_accuracy: 1.0000 - val_loss: 0.5461 - val_binary_accuracy: 1.0000\n",
            "Epoch 32/40\n",
            "56/56 [==============================] - 0s 2ms/step - loss: 0.5364 - binary_accuracy: 1.0000 - val_loss: 0.5464 - val_binary_accuracy: 1.0000\n",
            "Epoch 33/40\n",
            "56/56 [==============================] - 0s 2ms/step - loss: 0.5087 - binary_accuracy: 1.0000 - val_loss: 0.5467 - val_binary_accuracy: 1.0000\n",
            "Epoch 34/40\n",
            "56/56 [==============================] - 0s 2ms/step - loss: 0.5056 - binary_accuracy: 1.0000 - val_loss: 0.5471 - val_binary_accuracy: 1.0000\n",
            "Epoch 35/40\n",
            "56/56 [==============================] - 0s 2ms/step - loss: 0.4963 - binary_accuracy: 1.0000 - val_loss: 0.5474 - val_binary_accuracy: 1.0000\n",
            "Epoch 36/40\n",
            "56/56 [==============================] - 0s 2ms/step - loss: 0.4805 - binary_accuracy: 1.0000 - val_loss: 0.5477 - val_binary_accuracy: 1.0000\n",
            "Epoch 37/40\n",
            "56/56 [==============================] - 0s 2ms/step - loss: 0.4702 - binary_accuracy: 1.0000 - val_loss: 0.5480 - val_binary_accuracy: 1.0000\n",
            "Epoch 38/40\n",
            "56/56 [==============================] - 0s 2ms/step - loss: 0.4680 - binary_accuracy: 1.0000 - val_loss: 0.5482 - val_binary_accuracy: 1.0000\n",
            "Epoch 39/40\n",
            "56/56 [==============================] - 0s 2ms/step - loss: 0.4397 - binary_accuracy: 1.0000 - val_loss: 0.5484 - val_binary_accuracy: 1.0000\n",
            "Epoch 40/40\n",
            "56/56 [==============================] - 0s 2ms/step - loss: 0.4572 - binary_accuracy: 1.0000 - val_loss: 0.5485 - val_binary_accuracy: 1.0000\n"
          ],
          "name": "stdout"
        },
        {
          "output_type": "execute_result",
          "data": {
            "text/plain": [
              "<keras.callbacks.History at 0x7f6876969080>"
            ]
          },
          "metadata": {
            "tags": []
          },
          "execution_count": 71
        }
      ]
    },
    {
      "metadata": {
        "id": "56DukDYnny1h",
        "colab_type": "code",
        "colab": {}
      },
      "cell_type": "code",
      "source": [
        "# x1, x2, y\n",
        "# x1 contains the anchor images\n",
        "# x2 contains the training/test images\n",
        "# if x1 and x2 contain the images of same class then y = 1\n",
        "# if x1 and x2 do not contain the images of same class then y = 0\n",
        "\n",
        "x1 = []\n",
        "x2 = []\n",
        "y = []\n",
        "\n",
        "for a_class in range(num_class):\n",
        "  # on a specific anchor image of a specific class\n",
        "  for t_class in range(num_class):\n",
        "    for imgs in train_imgs[t_class]:\n",
        "      x1.append(np.reshape(anchor_imgs[a_class], (100,150,1)))\n",
        "      x2.append(np.reshape(imgs, (100,150,1)))\n",
        "      if a_class == t_class:\n",
        "        y.append(1)\n",
        "      else:\n",
        "        y.append(0)"
      ],
      "execution_count": 0,
      "outputs": []
    }
  ]
}