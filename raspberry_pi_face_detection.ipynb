{
  "nbformat": 4,
  "nbformat_minor": 0,
  "metadata": {
    "colab": {
      "name": "raspberry_pi_face_detection.ipynb",
      "version": "0.3.2",
      "provenance": [],
      "collapsed_sections": []
    },
    "kernelspec": {
      "name": "python3",
      "display_name": "Python 3"
    },
    "accelerator": "GPU"
  },
  "cells": [
    {
      "metadata": {
        "id": "dvBDenj-Yi2H",
        "colab_type": "code",
        "outputId": "5809d700-4349-47eb-f796-70b5ae05e8b5",
        "colab": {
          "base_uri": "https://localhost:8080/",
          "height": 128
        }
      },
      "cell_type": "code",
      "source": [
        "# Load the Drive helper and mount\n",
        "from google.colab import drive\n",
        "\n",
        "# This will prompt for authorization.\n",
        "drive.mount('/content/drive')"
      ],
      "execution_count": 3,
      "outputs": [
        {
          "output_type": "stream",
          "text": [
            "Go to this URL in a browser: https://accounts.google.com/o/oauth2/auth?client_id=947318989803-6bn6qk8qdgf4n4g3pfee6491hc0brc4i.apps.googleusercontent.com&redirect_uri=urn%3Aietf%3Awg%3Aoauth%3A2.0%3Aoob&scope=email%20https%3A%2F%2Fwww.googleapis.com%2Fauth%2Fdocs.test%20https%3A%2F%2Fwww.googleapis.com%2Fauth%2Fdrive%20https%3A%2F%2Fwww.googleapis.com%2Fauth%2Fdrive.photos.readonly%20https%3A%2F%2Fwww.googleapis.com%2Fauth%2Fpeopleapi.readonly&response_type=code\n",
            "\n",
            "Enter your authorization code:\n",
            "··········\n",
            "Mounted at /content/drive\n"
          ],
          "name": "stdout"
        }
      ]
    },
    {
      "metadata": {
        "id": "vwLCC21sYxbF",
        "colab_type": "code",
        "outputId": "c338b5a0-7d5f-4ced-f57d-89e750d12bac",
        "colab": {
          "base_uri": "https://localhost:8080/",
          "height": 35
        }
      },
      "cell_type": "code",
      "source": [
        "% cd /content/drive/My Drive/pi pictures"
      ],
      "execution_count": 4,
      "outputs": [
        {
          "output_type": "stream",
          "text": [
            "/content/drive/My Drive/pi pictures\n"
          ],
          "name": "stdout"
        }
      ]
    },
    {
      "metadata": {
        "id": "TkBExZT2ZEJz",
        "colab_type": "code",
        "colab": {}
      },
      "cell_type": "code",
      "source": [
        "import glob\n",
        "backg = []\n",
        "im_img = []\n",
        "sad_img = []\n",
        "for bimg in glob.glob('bg/*/*.jpg'):\n",
        "  backg.append(bimg)\n",
        "for imimg in glob.glob('data/imran/*/*.jpg'):\n",
        "  im_img.append(imimg)\n",
        "for sadimg in glob.glob('data/sakib/*/*.jpg'):\n",
        "  sad_img.append(sadimg)"
      ],
      "execution_count": 0,
      "outputs": []
    },
    {
      "metadata": {
        "id": "W3XeYRgFaLLR",
        "colab_type": "code",
        "outputId": "81ec8b3b-37f7-4c67-bce8-a665a9b9d047",
        "colab": {
          "base_uri": "https://localhost:8080/",
          "height": 72
        }
      },
      "cell_type": "code",
      "source": [
        "print(len(backg))\n",
        "print(len(im_img))\n",
        "print(len(sad_img))"
      ],
      "execution_count": 6,
      "outputs": [
        {
          "output_type": "stream",
          "text": [
            "150\n",
            "450\n",
            "450\n"
          ],
          "name": "stdout"
        }
      ]
    },
    {
      "metadata": {
        "id": "kfSYrp4rakzj",
        "colab_type": "code",
        "colab": {}
      },
      "cell_type": "code",
      "source": [
        "# install Augmentor"
      ],
      "execution_count": 0,
      "outputs": []
    },
    {
      "metadata": {
        "id": "UkQ3Y5GlB5bJ",
        "colab_type": "code",
        "colab": {}
      },
      "cell_type": "code",
      "source": [
        "import numpy as np"
      ],
      "execution_count": 0,
      "outputs": []
    },
    {
      "metadata": {
        "id": "WzsY6pfiDifH",
        "colab_type": "code",
        "colab": {}
      },
      "cell_type": "code",
      "source": [
        "def rotateImage(image, angle):\n",
        "  image_center = tuple(np.array(image.shape[1::-1]) / 2)\n",
        "  rot_mat = cv2.getRotationMatrix2D(image_center, angle, 1.0)\n",
        "  result = cv2.warpAffine(image, rot_mat, image.shape[1::-1], flags=cv2.INTER_LINEAR)\n",
        "  return result"
      ],
      "execution_count": 0,
      "outputs": []
    },
    {
      "metadata": {
        "id": "Q7tiwp8rD-yV",
        "colab_type": "code",
        "outputId": "ecd791a0-14d5-434f-c864-e288d57a9901",
        "colab": {
          "base_uri": "https://localhost:8080/",
          "height": 35
        }
      },
      "cell_type": "code",
      "source": [
        "import random\n",
        "x = random.randint(1,5)\n",
        "print(x)"
      ],
      "execution_count": 10,
      "outputs": [
        {
          "output_type": "stream",
          "text": [
            "2\n"
          ],
          "name": "stdout"
        }
      ]
    },
    {
      "metadata": {
        "id": "PwBl1GrjErgW",
        "colab_type": "code",
        "colab": {}
      },
      "cell_type": "code",
      "source": [
        "import cv2\n",
        "cls0 = []\n",
        "cls1 = []\n",
        "cls2 = []\n",
        "for im in backg:\n",
        "  a = cv2.imread(im)\n",
        "  a = cv2.resize(a, (224,224))\n",
        "\n",
        "  cls0.append(a)\n",
        "  a1 = cv2.flip(a,1)\n",
        "  cls0.append(a1)\n",
        "  x = random.randint(1,270)\n",
        "  a2 = rotateImage(a,x)\n",
        "  cls0.append(a2)\n",
        "  x = random.randint(1,270)\n",
        "  a2 = rotateImage(a,x)\n",
        "  cls0.append(a2)\n",
        "  x = random.randint(1,270)\n",
        "  a2 = rotateImage(a,x)\n",
        "  cls0.append(a2)\n",
        "  x = random.randint(1,270)\n",
        "  a2 = rotateImage(a,x)\n",
        "  cls0.append(a2)\n",
        "  x = random.randint(1,270)\n",
        "  a2 = rotateImage(a,x)\n",
        "  cls0.append(a2)\n",
        "  x = random.randint(1,270)\n",
        "  a2 = rotateImage(a,x)\n",
        "  cls0.append(a2)\n",
        "  x = random.randint(1,270)\n",
        "  a2 = rotateImage(a,x)\n",
        "  cls0.append(a2)\n",
        "\n",
        "  \n",
        "for im in im_img:\n",
        "  a = cv2.imread(im)\n",
        "  a = cv2.resize(a, (224,224))\n",
        "\n",
        "  cls1.append(a)\n",
        "  a1 = cv2.flip(a,1)\n",
        "  cls1.append(a1)\n",
        "  x = random.randint(1,270)\n",
        "  a2 = rotateImage(a,x)\n",
        "  cls1.append(a2)\n",
        "  x = random.randint(1,270)\n",
        "  a2 = rotateImage(a,x)\n",
        "  cls1.append(a2)\n",
        "  x = random.randint(1,270)\n",
        "  a2 = rotateImage(a,x)\n",
        "  cls1.append(a2)\n",
        "\n",
        "  \n",
        "for im in sad_img:\n",
        "  a = cv2.imread(im)\n",
        "  a = cv2.resize(a, (224,224))\n",
        "\n",
        "  cls2.append(a)\n",
        "  a1 = cv2.flip(a,1)\n",
        "  cls2.append(a1)\n",
        "  x = random.randint(1,270)\n",
        "  a2 = rotateImage(a,x)\n",
        "  cls2.append(a2)\n",
        "  x = random.randint(1,270)\n",
        "  a2 = rotateImage(a,x)\n",
        "  cls2.append(a2)\n",
        "  x = random.randint(1,270)\n",
        "  a2 = rotateImage(a,x)\n",
        "  cls2.append(a2)"
      ],
      "execution_count": 0,
      "outputs": []
    },
    {
      "metadata": {
        "id": "FYj5jAs7L64O",
        "colab_type": "code",
        "outputId": "4b95410d-1182-4d6c-dfb5-c5a4adbd2657",
        "colab": {
          "base_uri": "https://localhost:8080/",
          "height": 72
        }
      },
      "cell_type": "code",
      "source": [
        "print(len(cls0))\n",
        "print(len(cls1))\n",
        "print(len(cls2))"
      ],
      "execution_count": 12,
      "outputs": [
        {
          "output_type": "stream",
          "text": [
            "1350\n",
            "2250\n",
            "2250\n"
          ],
          "name": "stdout"
        }
      ]
    },
    {
      "metadata": {
        "id": "E1RaP4HxiG7I",
        "colab_type": "code",
        "colab": {
          "base_uri": "https://localhost:8080/",
          "height": 35
        },
        "outputId": "f404709c-3974-4cfb-f508-7d727702a456"
      },
      "cell_type": "code",
      "source": [
        "x = cls0\n",
        "x.extend(cls1)\n",
        "x.extend(cls2)\n",
        "print(len(x))"
      ],
      "execution_count": 13,
      "outputs": [
        {
          "output_type": "stream",
          "text": [
            "5850\n"
          ],
          "name": "stdout"
        }
      ]
    },
    {
      "metadata": {
        "id": "iI8erENOB_kB",
        "colab_type": "code",
        "colab": {}
      },
      "cell_type": "code",
      "source": [
        "y = []\n",
        "for i in range(1350):\n",
        "  y.append([1,0,0])\n",
        "for i in range(2250):\n",
        "  y.append([0,1,0])\n",
        "for i in range(2250):\n",
        "  y.append([0,0,1])"
      ],
      "execution_count": 0,
      "outputs": []
    },
    {
      "metadata": {
        "id": "WDdk-SrBi9wD",
        "colab_type": "code",
        "colab": {
          "base_uri": "https://localhost:8080/",
          "height": 35
        },
        "outputId": "599748eb-127e-4a23-e823-b02e3b0ae7a1"
      },
      "cell_type": "code",
      "source": [
        "print(len(y))"
      ],
      "execution_count": 15,
      "outputs": [
        {
          "output_type": "stream",
          "text": [
            "5850\n"
          ],
          "name": "stdout"
        }
      ]
    },
    {
      "metadata": {
        "id": "AKfg_-GAAOVa",
        "colab_type": "code",
        "colab": {}
      },
      "cell_type": "code",
      "source": [
        "z = list(zip(x,y))\n",
        "\n",
        "random.shuffle(z)\n",
        "\n",
        "x = [a[0] for a in z]\n",
        "y = [a[1] for a in z]"
      ],
      "execution_count": 0,
      "outputs": []
    },
    {
      "metadata": {
        "id": "LHci0cbMAxvS",
        "colab_type": "code",
        "colab": {
          "base_uri": "https://localhost:8080/",
          "height": 90
        },
        "outputId": "a5cf7e09-ca76-4221-a678-a48533182e9a"
      },
      "cell_type": "code",
      "source": [
        "tr_split = 0.85\n",
        "idx = int(len(x)*tr_split)\n",
        "x_train = x[:idx]\n",
        "y_train = y[:idx]\n",
        "x_test = x[idx:]\n",
        "y_test = y[idx:]\n",
        "print(len(x_train))\n",
        "print(len(y_train))\n",
        "print(len(x_test))\n",
        "print(len(y_test))"
      ],
      "execution_count": 17,
      "outputs": [
        {
          "output_type": "stream",
          "text": [
            "4972\n",
            "4972\n",
            "878\n",
            "878\n"
          ],
          "name": "stdout"
        }
      ]
    },
    {
      "metadata": {
        "id": "oI0nvG3tkhPA",
        "colab_type": "code",
        "colab": {
          "base_uri": "https://localhost:8080/",
          "height": 90
        },
        "outputId": "b0f08732-c6ab-4ae5-d5ca-c6c0e5786870"
      },
      "cell_type": "code",
      "source": [
        "x_train = np.array(x_train, dtype = 'float32')\n",
        "x_test = np.array(x_test, dtype = 'float32')\n",
        "y_train = np.array(y_train, dtype = 'float32')\n",
        "y_test = np.array(y_test, dtype = 'float32')\n",
        "print(x_train.shape)\n",
        "print(x_test.shape)\n",
        "print(y_train.shape)\n",
        "print(y_test.shape)"
      ],
      "execution_count": 18,
      "outputs": [
        {
          "output_type": "stream",
          "text": [
            "(4972, 224, 224, 3)\n",
            "(878, 224, 224, 3)\n",
            "(4972, 3)\n",
            "(878, 3)\n"
          ],
          "name": "stdout"
        }
      ]
    },
    {
      "metadata": {
        "id": "jZp95SyTnF8p",
        "colab_type": "code",
        "colab": {}
      },
      "cell_type": "code",
      "source": [
        "x_train = x_train/255."
      ],
      "execution_count": 0,
      "outputs": []
    },
    {
      "metadata": {
        "id": "hbsVHIUwnMLJ",
        "colab_type": "code",
        "colab": {
          "base_uri": "https://localhost:8080/",
          "height": 35
        },
        "outputId": "ea185cef-6ae6-40f1-e0b7-1eed4daa427b"
      },
      "cell_type": "code",
      "source": [
        "print(np.mean(x_train))"
      ],
      "execution_count": 20,
      "outputs": [
        {
          "output_type": "stream",
          "text": [
            "0.19286889\n"
          ],
          "name": "stdout"
        }
      ]
    },
    {
      "metadata": {
        "id": "SOORWA4inQFe",
        "colab_type": "code",
        "colab": {
          "base_uri": "https://localhost:8080/",
          "height": 35
        },
        "outputId": "29925bc3-da71-4adf-b123-f7d82ffb36be"
      },
      "cell_type": "code",
      "source": [
        "print(np.max(x_train))"
      ],
      "execution_count": 21,
      "outputs": [
        {
          "output_type": "stream",
          "text": [
            "1.0\n"
          ],
          "name": "stdout"
        }
      ]
    },
    {
      "metadata": {
        "id": "g_Wliqy0k3-x",
        "colab_type": "code",
        "colab": {
          "base_uri": "https://localhost:8080/",
          "height": 35
        },
        "outputId": "6d5f2268-56d0-4a13-cac3-d9644e641b5d"
      },
      "cell_type": "code",
      "source": [
        "from keras.models import Sequential\n",
        "from keras.layers import Dense, Conv2D, MaxPooling2D, Dropout, Flatten\n",
        "\n",
        "input_shape = (224,224,3)\n",
        "nClasses = 3\n",
        "\n",
        "def createModel():\n",
        "    model = Sequential()\n",
        "    model.add(Conv2D(32, (3, 3), padding='same', activation='relu', input_shape=input_shape))\n",
        "    model.add(Conv2D(32, (3, 3), activation='relu'))\n",
        "    model.add(MaxPooling2D(pool_size=(2, 2)))\n",
        "    model.add(Dropout(0.25))\n",
        " \n",
        "    model.add(Conv2D(64, (3, 3), padding='same', activation='relu'))\n",
        "    model.add(Conv2D(64, (3, 3), activation='relu'))\n",
        "    model.add(MaxPooling2D(pool_size=(2, 2)))\n",
        "    model.add(Dropout(0.25))\n",
        " \n",
        "    model.add(Conv2D(64, (3, 3), padding='same', activation='relu'))\n",
        "    model.add(Conv2D(64, (3, 3), activation='relu'))\n",
        "    model.add(MaxPooling2D(pool_size=(2, 2)))\n",
        "    model.add(Dropout(0.25))\n",
        " \n",
        "    model.add(Flatten())\n",
        "    model.add(Dense(512, activation='relu'))\n",
        "    model.add(Dropout(0.5))\n",
        "    model.add(Dense(nClasses, activation='sigmoid'))\n",
        "     \n",
        "    return model"
      ],
      "execution_count": 22,
      "outputs": [
        {
          "output_type": "stream",
          "text": [
            "Using TensorFlow backend.\n"
          ],
          "name": "stderr"
        }
      ]
    },
    {
      "metadata": {
        "id": "pLhZ3h1tl7nx",
        "colab_type": "code",
        "colab": {
          "base_uri": "https://localhost:8080/",
          "height": 1147
        },
        "outputId": "3c87be4a-86d5-4fbd-8b68-23d4baabefcd"
      },
      "cell_type": "code",
      "source": [
        "model1 = createModel()\n",
        "batch_size = 64\n",
        "epochs = 30\n",
        "model1.compile(optimizer='adam', loss='binary_crossentropy', metrics=['accuracy'])\n",
        " \n",
        "history = model1.fit(x_train, y_train, batch_size=batch_size, epochs=epochs, verbose=1, \n",
        "                   validation_split = 0.15)"
      ],
      "execution_count": 23,
      "outputs": [
        {
          "output_type": "stream",
          "text": [
            "Train on 4226 samples, validate on 746 samples\n",
            "Epoch 1/30\n",
            "4226/4226 [==============================] - 42s 10ms/step - loss: 0.4546 - acc: 0.7562 - val_loss: 0.2617 - val_acc: 0.8628\n",
            "Epoch 2/30\n",
            "4226/4226 [==============================] - 33s 8ms/step - loss: 0.2098 - acc: 0.9008 - val_loss: 0.1533 - val_acc: 0.9415\n",
            "Epoch 3/30\n",
            "4226/4226 [==============================] - 33s 8ms/step - loss: 0.1309 - acc: 0.9457 - val_loss: 0.0884 - val_acc: 0.9638\n",
            "Epoch 4/30\n",
            "4226/4226 [==============================] - 33s 8ms/step - loss: 0.1273 - acc: 0.9519 - val_loss: 0.0750 - val_acc: 0.9741\n",
            "Epoch 5/30\n",
            "4226/4226 [==============================] - 33s 8ms/step - loss: 0.0908 - acc: 0.9662 - val_loss: 0.0552 - val_acc: 0.9835\n",
            "Epoch 6/30\n",
            "4226/4226 [==============================] - 33s 8ms/step - loss: 0.0611 - acc: 0.9786 - val_loss: 0.0404 - val_acc: 0.9902\n",
            "Epoch 7/30\n",
            "4226/4226 [==============================] - 33s 8ms/step - loss: 0.0471 - acc: 0.9847 - val_loss: 0.0251 - val_acc: 0.9973\n",
            "Epoch 8/30\n",
            "4226/4226 [==============================] - 33s 8ms/step - loss: 0.0375 - acc: 0.9886 - val_loss: 0.0284 - val_acc: 0.9946\n",
            "Epoch 9/30\n",
            "4226/4226 [==============================] - 33s 8ms/step - loss: 0.0326 - acc: 0.9895 - val_loss: 0.0294 - val_acc: 0.9946\n",
            "Epoch 10/30\n",
            "4226/4226 [==============================] - 33s 8ms/step - loss: 0.0252 - acc: 0.9918 - val_loss: 0.0309 - val_acc: 0.9924\n",
            "Epoch 11/30\n",
            "4226/4226 [==============================] - 33s 8ms/step - loss: 0.0137 - acc: 0.9960 - val_loss: 0.0171 - val_acc: 0.9946\n",
            "Epoch 12/30\n",
            "4226/4226 [==============================] - 33s 8ms/step - loss: 0.0186 - acc: 0.9944 - val_loss: 0.0362 - val_acc: 0.9906\n",
            "Epoch 13/30\n",
            "4226/4226 [==============================] - 33s 8ms/step - loss: 0.0200 - acc: 0.9940 - val_loss: 0.0238 - val_acc: 0.9964\n",
            "Epoch 14/30\n",
            "4226/4226 [==============================] - 33s 8ms/step - loss: 0.0146 - acc: 0.9956 - val_loss: 0.0271 - val_acc: 0.9924\n",
            "Epoch 15/30\n",
            "4226/4226 [==============================] - 33s 8ms/step - loss: 0.0384 - acc: 0.9867 - val_loss: 0.0236 - val_acc: 0.9937\n",
            "Epoch 16/30\n",
            "4226/4226 [==============================] - 33s 8ms/step - loss: 0.0145 - acc: 0.9959 - val_loss: 0.0166 - val_acc: 0.9964\n",
            "Epoch 17/30\n",
            "4226/4226 [==============================] - 33s 8ms/step - loss: 0.0054 - acc: 0.9987 - val_loss: 0.0197 - val_acc: 0.9973\n",
            "Epoch 18/30\n",
            "4226/4226 [==============================] - 33s 8ms/step - loss: 0.0035 - acc: 0.9992 - val_loss: 0.0251 - val_acc: 0.9960\n",
            "Epoch 19/30\n",
            "4226/4226 [==============================] - 33s 8ms/step - loss: 0.0022 - acc: 0.9991 - val_loss: 0.0214 - val_acc: 0.9960\n",
            "Epoch 20/30\n",
            "4226/4226 [==============================] - 33s 8ms/step - loss: 0.0027 - acc: 0.9997 - val_loss: 0.0228 - val_acc: 0.9982\n",
            "Epoch 21/30\n",
            "4226/4226 [==============================] - 33s 8ms/step - loss: 0.0136 - acc: 0.9962 - val_loss: 0.0206 - val_acc: 0.9964\n",
            "Epoch 22/30\n",
            "4226/4226 [==============================] - 33s 8ms/step - loss: 0.0037 - acc: 0.9994 - val_loss: 0.0202 - val_acc: 0.9969\n",
            "Epoch 23/30\n",
            "4226/4226 [==============================] - 33s 8ms/step - loss: 0.0074 - acc: 0.9985 - val_loss: 0.0304 - val_acc: 0.9942\n",
            "Epoch 24/30\n",
            "4226/4226 [==============================] - 33s 8ms/step - loss: 0.0078 - acc: 0.9977 - val_loss: 0.0142 - val_acc: 0.9969\n",
            "Epoch 25/30\n",
            "4226/4226 [==============================] - 33s 8ms/step - loss: 0.0137 - acc: 0.9949 - val_loss: 0.0341 - val_acc: 0.9906\n",
            "Epoch 26/30\n",
            "4226/4226 [==============================] - 33s 8ms/step - loss: 0.0120 - acc: 0.9961 - val_loss: 0.0141 - val_acc: 0.9973\n",
            "Epoch 27/30\n",
            "4226/4226 [==============================] - 33s 8ms/step - loss: 0.0085 - acc: 0.9970 - val_loss: 0.0351 - val_acc: 0.9929\n",
            "Epoch 28/30\n",
            "4226/4226 [==============================] - 33s 8ms/step - loss: 0.0063 - acc: 0.9984 - val_loss: 0.0209 - val_acc: 0.9969\n",
            "Epoch 29/30\n",
            "4226/4226 [==============================] - 33s 8ms/step - loss: 0.0045 - acc: 0.9989 - val_loss: 0.0312 - val_acc: 0.9973\n",
            "Epoch 30/30\n",
            "4226/4226 [==============================] - 33s 8ms/step - loss: 0.0021 - acc: 0.9995 - val_loss: 0.0452 - val_acc: 0.9937\n"
          ],
          "name": "stdout"
        }
      ]
    },
    {
      "metadata": {
        "id": "QfMGxdv7mN4i",
        "colab_type": "code",
        "colab": {
          "base_uri": "https://localhost:8080/",
          "height": 53
        },
        "outputId": "5472d50a-f96c-44cd-8375-3011288040b8"
      },
      "cell_type": "code",
      "source": [
        "model1.evaluate(x_test, y_test)"
      ],
      "execution_count": 24,
      "outputs": [
        {
          "output_type": "stream",
          "text": [
            "878/878 [==============================] - 4s 4ms/step\n"
          ],
          "name": "stdout"
        },
        {
          "output_type": "execute_result",
          "data": {
            "text/plain": [
              "[4.530331226036054, 0.7164009335643882]"
            ]
          },
          "metadata": {
            "tags": []
          },
          "execution_count": 24
        }
      ]
    },
    {
      "metadata": {
        "id": "q7QOo6M8c6MW",
        "colab_type": "code",
        "colab": {
          "base_uri": "https://localhost:8080/",
          "height": 35
        },
        "outputId": "ce21005b-7545-4e05-9991-b54e22f5ecaa"
      },
      "cell_type": "code",
      "source": [
        "print(4)"
      ],
      "execution_count": 26,
      "outputs": [
        {
          "output_type": "stream",
          "text": [
            "4\n"
          ],
          "name": "stdout"
        }
      ]
    },
    {
      "metadata": {
        "id": "OvnTKVFqnSTc",
        "colab_type": "code",
        "colab": {
          "base_uri": "https://localhost:8080/",
          "height": 727
        },
        "outputId": "d96624d4-90c9-4efb-d840-ee6090a7e1d7"
      },
      "cell_type": "code",
      "source": [
        "model1.summary()"
      ],
      "execution_count": 25,
      "outputs": [
        {
          "output_type": "stream",
          "text": [
            "_________________________________________________________________\n",
            "Layer (type)                 Output Shape              Param #   \n",
            "=================================================================\n",
            "conv2d_1 (Conv2D)            (None, 224, 224, 32)      896       \n",
            "_________________________________________________________________\n",
            "conv2d_2 (Conv2D)            (None, 222, 222, 32)      9248      \n",
            "_________________________________________________________________\n",
            "max_pooling2d_1 (MaxPooling2 (None, 111, 111, 32)      0         \n",
            "_________________________________________________________________\n",
            "dropout_1 (Dropout)          (None, 111, 111, 32)      0         \n",
            "_________________________________________________________________\n",
            "conv2d_3 (Conv2D)            (None, 111, 111, 64)      18496     \n",
            "_________________________________________________________________\n",
            "conv2d_4 (Conv2D)            (None, 109, 109, 64)      36928     \n",
            "_________________________________________________________________\n",
            "max_pooling2d_2 (MaxPooling2 (None, 54, 54, 64)        0         \n",
            "_________________________________________________________________\n",
            "dropout_2 (Dropout)          (None, 54, 54, 64)        0         \n",
            "_________________________________________________________________\n",
            "conv2d_5 (Conv2D)            (None, 54, 54, 64)        36928     \n",
            "_________________________________________________________________\n",
            "conv2d_6 (Conv2D)            (None, 52, 52, 64)        36928     \n",
            "_________________________________________________________________\n",
            "max_pooling2d_3 (MaxPooling2 (None, 26, 26, 64)        0         \n",
            "_________________________________________________________________\n",
            "dropout_3 (Dropout)          (None, 26, 26, 64)        0         \n",
            "_________________________________________________________________\n",
            "flatten_1 (Flatten)          (None, 43264)             0         \n",
            "_________________________________________________________________\n",
            "dense_1 (Dense)              (None, 512)               22151680  \n",
            "_________________________________________________________________\n",
            "dropout_4 (Dropout)          (None, 512)               0         \n",
            "_________________________________________________________________\n",
            "dense_2 (Dense)              (None, 3)                 1539      \n",
            "=================================================================\n",
            "Total params: 22,292,643\n",
            "Trainable params: 22,292,643\n",
            "Non-trainable params: 0\n",
            "_________________________________________________________________\n"
          ],
          "name": "stdout"
        }
      ]
    },
    {
      "metadata": {
        "id": "0cXNKdPuy5I1",
        "colab_type": "code",
        "colab": {
          "base_uri": "https://localhost:8080/",
          "height": 35
        },
        "outputId": "283c53ad-7831-4dcb-bf52-95a4fa14ef36"
      },
      "cell_type": "code",
      "source": [
        "print(backg[0])"
      ],
      "execution_count": 27,
      "outputs": [
        {
          "output_type": "stream",
          "text": [
            "bg/b1/13.jpg\n"
          ],
          "name": "stdout"
        }
      ]
    },
    {
      "metadata": {
        "id": "esrqwPuY1AiG",
        "colab_type": "code",
        "colab": {
          "base_uri": "https://localhost:8080/",
          "height": 72
        },
        "outputId": "3041d7c6-b3fa-4c0d-bb89-180398a47a4a"
      },
      "cell_type": "code",
      "source": [
        "print(len(backg))\n",
        "print(len(im_img))\n",
        "print(len(sad_img))"
      ],
      "execution_count": 38,
      "outputs": [
        {
          "output_type": "stream",
          "text": [
            "150\n",
            "450\n",
            "450\n"
          ],
          "name": "stdout"
        }
      ]
    },
    {
      "metadata": {
        "id": "vQCQUoULnhOt",
        "colab_type": "code",
        "colab": {
          "base_uri": "https://localhost:8080/",
          "height": 35
        },
        "outputId": "28faf24b-a9b7-4422-9f79-fa8aa37b713a"
      },
      "cell_type": "code",
      "source": [
        "from PIL import Image\n",
        "x1 = backg[123]\n",
        "x2 = im_img[245]\n",
        "x3 = sad_img[243]\n",
        "im = Image.open(x2)\n",
        "im = im.resize((224,224), Image.ANTIALIAS)\n",
        "a = np.array(im, dtype='float32')\n",
        "a = np.reshape(a, (1,224,224,3))\n",
        "a = a/255.\n",
        "pr = model1.predict_classes(a)\n",
        "\n",
        "print(pr[0])"
      ],
      "execution_count": 40,
      "outputs": [
        {
          "output_type": "stream",
          "text": [
            "1\n"
          ],
          "name": "stdout"
        }
      ]
    },
    {
      "metadata": {
        "id": "ZZ_BDAWjzEt4",
        "colab_type": "code",
        "colab": {}
      },
      "cell_type": "code",
      "source": [
        "model1.save('/content/rasp-face1.h5')"
      ],
      "execution_count": 0,
      "outputs": []
    },
    {
      "metadata": {
        "id": "faMowHfo3uc6",
        "colab_type": "code",
        "colab": {
          "base_uri": "https://localhost:8080/",
          "height": 365
        },
        "outputId": "0f8be578-e27f-4f48-e811-4380d7357cad"
      },
      "cell_type": "code",
      "source": [
        "! pip install pydrive"
      ],
      "execution_count": 46,
      "outputs": [
        {
          "output_type": "stream",
          "text": [
            "Collecting pydrive\n",
            "\u001b[?25l  Downloading https://files.pythonhosted.org/packages/52/e0/0e64788e5dd58ce2d6934549676243dc69d982f198524be9b99e9c2a4fd5/PyDrive-1.3.1.tar.gz (987kB)\n",
            "\r\u001b[K    1% |▎                               | 10kB 17.1MB/s eta 0:00:01\r\u001b[K    2% |▋                               | 20kB 4.8MB/s eta 0:00:01\r\u001b[K    3% |█                               | 30kB 6.7MB/s eta 0:00:01\r\u001b[K    4% |█▎                              | 40kB 4.2MB/s eta 0:00:01\r\u001b[K    5% |█▋                              | 51kB 5.2MB/s eta 0:00:01\r\u001b[K    6% |██                              | 61kB 6.1MB/s eta 0:00:01\r\u001b[K    7% |██▎                             | 71kB 6.9MB/s eta 0:00:01\r\u001b[K    8% |██▋                             | 81kB 7.7MB/s eta 0:00:01\r\u001b[K    9% |███                             | 92kB 8.5MB/s eta 0:00:01\r\u001b[K    10% |███▎                            | 102kB 6.7MB/s eta 0:00:01\r\u001b[K    11% |███▋                            | 112kB 6.8MB/s eta 0:00:01\r\u001b[K    12% |████                            | 122kB 8.7MB/s eta 0:00:01\r\u001b[K    13% |████▎                           | 133kB 8.7MB/s eta 0:00:01\r\u001b[K    14% |████▋                           | 143kB 14.8MB/s eta 0:00:01\r\u001b[K    15% |█████                           | 153kB 14.4MB/s eta 0:00:01\r\u001b[K    16% |█████▎                          | 163kB 14.1MB/s eta 0:00:01\r\u001b[K    17% |█████▋                          | 174kB 13.7MB/s eta 0:00:01\r\u001b[K    18% |██████                          | 184kB 13.8MB/s eta 0:00:01\r\u001b[K    19% |██████▎                         | 194kB 13.7MB/s eta 0:00:01\r\u001b[K    20% |██████▋                         | 204kB 30.6MB/s eta 0:00:01\r\u001b[K    21% |███████                         | 215kB 21.4MB/s eta 0:00:01\r\u001b[K    22% |███████▎                        | 225kB 21.4MB/s eta 0:00:01\r\u001b[K    23% |███████▋                        | 235kB 21.7MB/s eta 0:00:01\r\u001b[K    24% |████████                        | 245kB 22.1MB/s eta 0:00:01\r\u001b[K    25% |████████▎                       | 256kB 23.3MB/s eta 0:00:01\r\u001b[K    26% |████████▋                       | 266kB 22.3MB/s eta 0:00:01\r\u001b[K    27% |█████████                       | 276kB 23.8MB/s eta 0:00:01\r\u001b[K    29% |█████████▎                      | 286kB 23.7MB/s eta 0:00:01\r\u001b[K    30% |█████████▋                      | 296kB 23.6MB/s eta 0:00:01\r\u001b[K    31% |██████████                      | 307kB 24.6MB/s eta 0:00:01\r\u001b[K    32% |██████████▎                     | 317kB 42.0MB/s eta 0:00:01\r\u001b[K    33% |██████████▋                     | 327kB 42.4MB/s eta 0:00:01\r\u001b[K    34% |███████████                     | 337kB 41.2MB/s eta 0:00:01\r\u001b[K    35% |███████████▎                    | 348kB 37.0MB/s eta 0:00:01\r\u001b[K    36% |███████████▋                    | 358kB 37.0MB/s eta 0:00:01\r\u001b[K    37% |████████████                    | 368kB 41.3MB/s eta 0:00:01\r\u001b[K    38% |████████████▎                   | 378kB 40.7MB/s eta 0:00:01\r\u001b[K    39% |████████████▋                   | 389kB 40.9MB/s eta 0:00:01\r\u001b[K    40% |█████████████                   | 399kB 25.6MB/s eta 0:00:01\r\u001b[K    41% |█████████████▎                  | 409kB 25.1MB/s eta 0:00:01\r\u001b[K    42% |█████████████▋                  | 419kB 25.1MB/s eta 0:00:01\r\u001b[K    43% |██████████████                  | 430kB 25.0MB/s eta 0:00:01\r\u001b[K    44% |██████████████▎                 | 440kB 25.8MB/s eta 0:00:01\r\u001b[K    45% |██████████████▋                 | 450kB 27.0MB/s eta 0:00:01\r\u001b[K    46% |███████████████                 | 460kB 27.0MB/s eta 0:00:01\r\u001b[K    47% |███████████████▎                | 471kB 27.5MB/s eta 0:00:01\r\u001b[K    48% |███████████████▋                | 481kB 27.5MB/s eta 0:00:01\r\u001b[K    49% |████████████████                | 491kB 26.3MB/s eta 0:00:01\r\u001b[K    50% |████████████████▎               | 501kB 43.4MB/s eta 0:00:01\r\u001b[K    51% |████████████████▋               | 512kB 41.9MB/s eta 0:00:01\r\u001b[K    52% |█████████████████               | 522kB 41.9MB/s eta 0:00:01\r\u001b[K    53% |█████████████████▎              | 532kB 42.4MB/s eta 0:00:01\r\u001b[K    54% |█████████████████▋              | 542kB 22.7MB/s eta 0:00:01\r\u001b[K    55% |██████████████████              | 552kB 23.1MB/s eta 0:00:01\r\u001b[K    57% |██████████████████▎             | 563kB 22.6MB/s eta 0:00:01\r\u001b[K    58% |██████████████████▋             | 573kB 22.1MB/s eta 0:00:01\r\u001b[K    59% |███████████████████             | 583kB 22.0MB/s eta 0:00:01\r\u001b[K    60% |███████████████████▎            | 593kB 22.8MB/s eta 0:00:01\r\u001b[K    61% |███████████████████▋            | 604kB 22.7MB/s eta 0:00:01\r\u001b[K    62% |████████████████████            | 614kB 23.4MB/s eta 0:00:01\r\u001b[K    63% |████████████████████▎           | 624kB 23.3MB/s eta 0:00:01\r\u001b[K    64% |████████████████████▋           | 634kB 23.3MB/s eta 0:00:01\r\u001b[K    65% |█████████████████████           | 645kB 43.2MB/s eta 0:00:01\r\u001b[K    66% |█████████████████████▎          | 655kB 43.3MB/s eta 0:00:01\r\u001b[K    67% |█████████████████████▋          | 665kB 36.0MB/s eta 0:00:01\r\u001b[K    68% |██████████████████████          | 675kB 36.9MB/s eta 0:00:01\r\u001b[K    69% |██████████████████████▎         | 686kB 37.6MB/s eta 0:00:01\r\u001b[K    70% |██████████████████████▋         | 696kB 37.9MB/s eta 0:00:01\r\u001b[K    71% |███████████████████████         | 706kB 38.1MB/s eta 0:00:01\r\u001b[K    72% |███████████████████████▎        | 716kB 37.9MB/s eta 0:00:01\r\u001b[K    73% |███████████████████████▋        | 727kB 37.7MB/s eta 0:00:01\r\u001b[K    74% |████████████████████████        | 737kB 37.6MB/s eta 0:00:01\r\u001b[K    75% |████████████████████████▎       | 747kB 39.2MB/s eta 0:00:01\r\u001b[K    76% |████████████████████████▋       | 757kB 39.4MB/s eta 0:00:01\r\u001b[K    77% |████████████████████████▉       | 768kB 50.2MB/s eta 0:00:01\r\u001b[K    78% |█████████████████████████▏      | 778kB 50.7MB/s eta 0:00:01\r\u001b[K    79% |█████████████████████████▌      | 788kB 50.2MB/s eta 0:00:01\r\u001b[K    80% |█████████████████████████▉      | 798kB 50.5MB/s eta 0:00:01\r\u001b[K    81% |██████████████████████████▏     | 808kB 50.7MB/s eta 0:00:01\r\u001b[K    82% |██████████████████████████▌     | 819kB 49.7MB/s eta 0:00:01\r\u001b[K    83% |██████████████████████████▉     | 829kB 50.9MB/s eta 0:00:01\r\u001b[K    85% |███████████████████████████▏    | 839kB 51.2MB/s eta 0:00:01\r\u001b[K    86% |███████████████████████████▌    | 849kB 51.4MB/s eta 0:00:01\r\u001b[K    87% |███████████████████████████▉    | 860kB 47.2MB/s eta 0:00:01\r\u001b[K    88% |████████████████████████████▏   | 870kB 47.3MB/s eta 0:00:01\r\u001b[K    89% |████████████████████████████▌   | 880kB 47.9MB/s eta 0:00:01\r\u001b[K    90% |████████████████████████████▉   | 890kB 47.7MB/s eta 0:00:01\r\u001b[K    91% |█████████████████████████████▏  | 901kB 47.5MB/s eta 0:00:01\r\u001b[K    92% |█████████████████████████████▌  | 911kB 47.3MB/s eta 0:00:01\r\u001b[K    93% |█████████████████████████████▉  | 921kB 47.1MB/s eta 0:00:01\r\u001b[K    94% |██████████████████████████████▏ | 931kB 47.4MB/s eta 0:00:01\r\u001b[K    95% |██████████████████████████████▌ | 942kB 47.3MB/s eta 0:00:01\r\u001b[K    96% |██████████████████████████████▉ | 952kB 46.9MB/s eta 0:00:01\r\u001b[K    97% |███████████████████████████████▏| 962kB 51.6MB/s eta 0:00:01\r\u001b[K    98% |███████████████████████████████▌| 972kB 51.5MB/s eta 0:00:01\r\u001b[K    99% |███████████████████████████████▉| 983kB 50.0MB/s eta 0:00:01\r\u001b[K    100% |████████████████████████████████| 993kB 19.2MB/s \n",
            "\u001b[?25hRequirement already satisfied: google-api-python-client>=1.2 in /usr/local/lib/python3.6/dist-packages (from pydrive) (1.6.7)\n",
            "Requirement already satisfied: oauth2client>=4.0.0 in /usr/local/lib/python3.6/dist-packages (from pydrive) (4.1.3)\n",
            "Requirement already satisfied: PyYAML>=3.0 in /usr/local/lib/python3.6/dist-packages (from pydrive) (3.13)\n",
            "Requirement already satisfied: six<2dev,>=1.6.1 in /usr/local/lib/python3.6/dist-packages (from google-api-python-client>=1.2->pydrive) (1.11.0)\n",
            "Requirement already satisfied: uritemplate<4dev,>=3.0.0 in /usr/local/lib/python3.6/dist-packages (from google-api-python-client>=1.2->pydrive) (3.0.0)\n",
            "Requirement already satisfied: httplib2<1dev,>=0.9.2 in /usr/local/lib/python3.6/dist-packages (from google-api-python-client>=1.2->pydrive) (0.11.3)\n",
            "Requirement already satisfied: rsa>=3.1.4 in /usr/local/lib/python3.6/dist-packages (from oauth2client>=4.0.0->pydrive) (4.0)\n",
            "Requirement already satisfied: pyasn1-modules>=0.0.5 in /usr/local/lib/python3.6/dist-packages (from oauth2client>=4.0.0->pydrive) (0.2.2)\n",
            "Requirement already satisfied: pyasn1>=0.1.7 in /usr/local/lib/python3.6/dist-packages (from oauth2client>=4.0.0->pydrive) (0.4.4)\n",
            "Building wheels for collected packages: pydrive\n",
            "  Running setup.py bdist_wheel for pydrive ... \u001b[?25l-\b \bdone\n",
            "\u001b[?25h  Stored in directory: /root/.cache/pip/wheels/fa/d2/9a/d3b6b506c2da98289e5d417215ce34b696db856643bad779f4\n",
            "Successfully built pydrive\n",
            "Installing collected packages: pydrive\n",
            "Successfully installed pydrive-1.3.1\n"
          ],
          "name": "stdout"
        }
      ]
    },
    {
      "metadata": {
        "id": "O1qhJfL829yX",
        "colab_type": "code",
        "colab": {
          "base_uri": "https://localhost:8080/",
          "height": 35
        },
        "outputId": "2e3e614e-0bb7-4b13-c943-daaa14c05da4"
      },
      "cell_type": "code",
      "source": [
        "\n",
        "from pydrive.auth import GoogleAuth\n",
        "from pydrive.drive import GoogleDrive\n",
        "from google.colab import auth\n",
        "from oauth2client.client import GoogleCredentials\n",
        "\n",
        "\n",
        "# Authenticate and create the PyDrive client.\n",
        "# This only needs to be done once in a notebook.\n",
        "auth.authenticate_user()\n",
        "gauth = GoogleAuth()\n",
        "gauth.credentials = GoogleCredentials.get_application_default()\n",
        "drive = GoogleDrive(gauth)\n",
        "# Create & upload a file.\n",
        "uploaded = drive.CreateFile({'title': 'rasp-face1.h5'})\n",
        "uploaded.SetContentFile('/content/rasp-face1.h5')\n",
        "uploaded.Upload()\n",
        "print('Uploaded file with ID {}'.format(uploaded.get('id')))"
      ],
      "execution_count": 49,
      "outputs": [
        {
          "output_type": "stream",
          "text": [
            "Uploaded file with ID 1KO7RXmEGuMTMZpBZrVv_5865kyx_ux20\n"
          ],
          "name": "stdout"
        }
      ]
    },
    {
      "metadata": {
        "id": "c_E-Q-ZM3ntw",
        "colab_type": "code",
        "colab": {}
      },
      "cell_type": "code",
      "source": [
        ""
      ],
      "execution_count": 0,
      "outputs": []
    },
    {
      "metadata": {
        "id": "1TWYEt7lDWov",
        "colab_type": "code",
        "colab": {}
      },
      "cell_type": "code",
      "source": [
        ""
      ],
      "execution_count": 0,
      "outputs": []
    }
  ]
}