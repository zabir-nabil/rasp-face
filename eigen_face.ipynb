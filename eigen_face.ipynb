{
  "nbformat": 4,
  "nbformat_minor": 0,
  "metadata": {
    "colab": {
      "name": "eigen_face.ipynb",
      "version": "0.3.2",
      "provenance": [],
      "collapsed_sections": []
    },
    "kernelspec": {
      "name": "python3",
      "display_name": "Python 3"
    }
  },
  "cells": [
    {
      "metadata": {
        "id": "tFgOgowvPbcv",
        "colab_type": "code",
        "outputId": "710b4f1c-723f-4733-d2af-b57478cee060",
        "colab": {
          "base_uri": "https://localhost:8080/",
          "height": 128
        }
      },
      "cell_type": "code",
      "source": [
        "# Load the Drive helper and mount\n",
        "from google.colab import drive\n",
        "\n",
        "# This will prompt for authorization.\n",
        "drive.mount('/content/drive')"
      ],
      "execution_count": 1,
      "outputs": [
        {
          "output_type": "stream",
          "text": [
            "Go to this URL in a browser: https://accounts.google.com/o/oauth2/auth?client_id=947318989803-6bn6qk8qdgf4n4g3pfee6491hc0brc4i.apps.googleusercontent.com&redirect_uri=urn%3Aietf%3Awg%3Aoauth%3A2.0%3Aoob&scope=email%20https%3A%2F%2Fwww.googleapis.com%2Fauth%2Fdocs.test%20https%3A%2F%2Fwww.googleapis.com%2Fauth%2Fdrive%20https%3A%2F%2Fwww.googleapis.com%2Fauth%2Fdrive.photos.readonly%20https%3A%2F%2Fwww.googleapis.com%2Fauth%2Fpeopleapi.readonly&response_type=code\n",
            "\n",
            "Enter your authorization code:\n",
            "··········\n",
            "Mounted at /content/drive\n"
          ],
          "name": "stdout"
        }
      ]
    },
    {
      "metadata": {
        "id": "b-nezg1ZPgBV",
        "colab_type": "code",
        "outputId": "f7395f8e-7fb2-4013-8052-d3d5f6a0290a",
        "colab": {
          "base_uri": "https://localhost:8080/",
          "height": 35
        }
      },
      "cell_type": "code",
      "source": [
        "% cd /content/drive/My Drive/pi pictures"
      ],
      "execution_count": 2,
      "outputs": [
        {
          "output_type": "stream",
          "text": [
            "/content/drive/My Drive/pi pictures\n"
          ],
          "name": "stdout"
        }
      ]
    },
    {
      "metadata": {
        "id": "2obmsA0jPvbT",
        "colab_type": "code",
        "colab": {}
      },
      "cell_type": "code",
      "source": [
        "import glob\n",
        "backg = []\n",
        "im_img = []\n",
        "sad_img = []\n",
        "for bimg in glob.glob('bg/*/*.jpg'):\n",
        "  backg.append(bimg)\n",
        "for imimg in glob.glob('data/imran/*/*.jpg'):\n",
        "  im_img.append(imimg)\n",
        "for sadimg in glob.glob('data/sakib/*/*.jpg'):\n",
        "  sad_img.append(sadimg)"
      ],
      "execution_count": 0,
      "outputs": []
    },
    {
      "metadata": {
        "id": "jNXPYQeaPygD",
        "colab_type": "code",
        "outputId": "9e1fea31-0b55-479b-a285-9226d1eb482a",
        "colab": {
          "base_uri": "https://localhost:8080/",
          "height": 72
        }
      },
      "cell_type": "code",
      "source": [
        "print(len(backg))\n",
        "print(len(im_img))\n",
        "print(len(sad_img))"
      ],
      "execution_count": 0,
      "outputs": [
        {
          "output_type": "stream",
          "text": [
            "150\n",
            "450\n",
            "450\n"
          ],
          "name": "stdout"
        }
      ]
    },
    {
      "metadata": {
        "id": "xGwsFxr0P2CM",
        "colab_type": "code",
        "colab": {}
      },
      "cell_type": "code",
      "source": [
        "import numpy as np\n",
        "import random\n",
        "def rotateImage(image, angle):\n",
        "  image_center = tuple(np.array(image.shape[1::-1]) / 2)\n",
        "  rot_mat = cv2.getRotationMatrix2D(image_center, angle, 1.0)\n",
        "  result = cv2.warpAffine(image, rot_mat, image.shape[1::-1], flags=cv2.INTER_LINEAR)\n",
        "  return result"
      ],
      "execution_count": 0,
      "outputs": []
    },
    {
      "metadata": {
        "id": "-vsftjUEQSEZ",
        "colab_type": "code",
        "outputId": "70598f1b-fbad-4f40-ea41-f7e69a7d7146",
        "colab": {
          "base_uri": "https://localhost:8080/",
          "height": 35
        }
      },
      "cell_type": "code",
      "source": [
        "print(random.randint(-10,1))"
      ],
      "execution_count": 0,
      "outputs": [
        {
          "output_type": "stream",
          "text": [
            "-9\n"
          ],
          "name": "stdout"
        }
      ]
    },
    {
      "metadata": {
        "id": "8olqzDm3P9TD",
        "colab_type": "code",
        "colab": {}
      },
      "cell_type": "code",
      "source": [
        "import cv2\n",
        "cls0 = []\n",
        "cls1 = []\n",
        "cls2 = []\n",
        "for im in backg:\n",
        "  a = cv2.imread(im,0)\n",
        "  a = cv2.resize(a, (224,224))\n",
        "\n",
        "  cls0.append(a)\n",
        "  a1 = cv2.flip(a,1)\n",
        "  cls0.append(a1)\n",
        "  x = random.randint(1,270)\n",
        "  a2 = rotateImage(a,x)\n",
        "  cls0.append(a2)\n",
        "  x = random.randint(1,270)\n",
        "  a2 = rotateImage(a,x)\n",
        "  cls0.append(a2)\n",
        "  x = random.randint(1,270)\n",
        "  a2 = rotateImage(a,x)\n",
        "  cls0.append(a2)\n",
        "  x = random.randint(1,270)\n",
        "  a2 = rotateImage(a,x)\n",
        "  cls0.append(a2)\n",
        "  x = random.randint(1,270)\n",
        "  a2 = rotateImage(a,x)\n",
        "  cls0.append(a2)\n",
        "  x = random.randint(1,270)\n",
        "  a2 = rotateImage(a,x)\n",
        "  cls0.append(a2)\n",
        "  x = random.randint(1,270)\n",
        "  a2 = rotateImage(a,x)\n",
        "  cls0.append(a2)\n",
        "\n",
        "  \n",
        "for im in im_img:\n",
        "  a = cv2.imread(im,0)\n",
        "  a = cv2.resize(a, (224,224))\n",
        "\n",
        "  cls1.append(a)\n",
        "  a1 = cv2.flip(a,1)\n",
        "  cls1.append(a1)\n",
        "  x = random.randint(1,270)\n",
        "  a2 = rotateImage(a,x)\n",
        "  cls1.append(a2)\n",
        "  x = random.randint(1,270)\n",
        "  a2 = rotateImage(a,x)\n",
        "  cls1.append(a2)\n",
        "  x = random.randint(1,270)\n",
        "  a2 = rotateImage(a,x)\n",
        "  cls1.append(a2)\n",
        "\n",
        "  \n",
        "for im in sad_img:\n",
        "  a = cv2.imread(im,0)\n",
        "  a = cv2.resize(a, (224,224))\n",
        "\n",
        "  cls2.append(a)\n",
        "  a1 = cv2.flip(a,1)\n",
        "  cls2.append(a1)\n",
        "  x = random.randint(1,270)\n",
        "  a2 = rotateImage(a,x)\n",
        "  cls2.append(a2)\n",
        "  x = random.randint(1,270)\n",
        "  a2 = rotateImage(a,x)\n",
        "  cls2.append(a2)\n",
        "  x = random.randint(1,270)\n",
        "  a2 = rotateImage(a,x)\n",
        "  cls2.append(a2)"
      ],
      "execution_count": 0,
      "outputs": []
    },
    {
      "metadata": {
        "id": "Cpj8a5AqQfIX",
        "colab_type": "code",
        "outputId": "1700758e-73c9-4752-847e-e1b42674d74f",
        "colab": {
          "base_uri": "https://localhost:8080/",
          "height": 72
        }
      },
      "cell_type": "code",
      "source": [
        "print(len(cls0))\n",
        "print(len(cls1))\n",
        "print(len(cls2))"
      ],
      "execution_count": 6,
      "outputs": [
        {
          "output_type": "stream",
          "text": [
            "1350\n",
            "2250\n",
            "2250\n"
          ],
          "name": "stdout"
        }
      ]
    },
    {
      "metadata": {
        "id": "NEVMO-T5SS18",
        "colab_type": "code",
        "outputId": "2ab56995-1fcf-453f-d8c7-4c1d8d467ddf",
        "colab": {
          "base_uri": "https://localhost:8080/",
          "height": 35
        }
      },
      "cell_type": "code",
      "source": [
        "x = cls0\n",
        "x.extend(cls1)\n",
        "x.extend(cls2)\n",
        "print(len(x))"
      ],
      "execution_count": 7,
      "outputs": [
        {
          "output_type": "stream",
          "text": [
            "5850\n"
          ],
          "name": "stdout"
        }
      ]
    },
    {
      "metadata": {
        "id": "-lfTDnMnSXZU",
        "colab_type": "code",
        "colab": {}
      },
      "cell_type": "code",
      "source": [
        "y = []\n",
        "for i in range(1350):\n",
        "  y.append([1,0,0])\n",
        "for i in range(2250):\n",
        "  y.append([0,1,0])\n",
        "for i in range(2250):\n",
        "  y.append([0,0,1])"
      ],
      "execution_count": 0,
      "outputs": []
    },
    {
      "metadata": {
        "id": "itNXPYDnSaTT",
        "colab_type": "code",
        "outputId": "15fb7e54-0b6d-4312-ac0d-08a7a785e644",
        "colab": {
          "base_uri": "https://localhost:8080/",
          "height": 35
        }
      },
      "cell_type": "code",
      "source": [
        "print(len(y))"
      ],
      "execution_count": 0,
      "outputs": [
        {
          "output_type": "stream",
          "text": [
            "5850\n"
          ],
          "name": "stdout"
        }
      ]
    },
    {
      "metadata": {
        "id": "Pr0XrAc9SdWC",
        "colab_type": "code",
        "colab": {}
      },
      "cell_type": "code",
      "source": [
        "z = list(zip(x,y))\n",
        "\n",
        "random.shuffle(z)\n",
        "\n",
        "x = [a[0] for a in z]\n",
        "y = [a[1] for a in z]"
      ],
      "execution_count": 0,
      "outputs": []
    },
    {
      "metadata": {
        "id": "ZYyPuykOSjUj",
        "colab_type": "code",
        "outputId": "2e7fd493-3b34-4da0-cec4-f3815642d855",
        "colab": {
          "base_uri": "https://localhost:8080/",
          "height": 90
        }
      },
      "cell_type": "code",
      "source": [
        "tr_split = 0.85\n",
        "idx = int(len(x)*tr_split)\n",
        "x_train = x[:idx]\n",
        "y_train = y[:idx]\n",
        "x_test = x[idx:]\n",
        "y_test = y[idx:]\n",
        "print(len(x_train))\n",
        "print(len(y_train))\n",
        "print(len(x_test))\n",
        "print(len(y_test))"
      ],
      "execution_count": 10,
      "outputs": [
        {
          "output_type": "stream",
          "text": [
            "4972\n",
            "4972\n",
            "878\n",
            "878\n"
          ],
          "name": "stdout"
        }
      ]
    },
    {
      "metadata": {
        "id": "uc1xWU3GSmR8",
        "colab_type": "code",
        "outputId": "ad9a50fb-7bcb-4b4c-e6b2-7c69f6344984",
        "colab": {
          "base_uri": "https://localhost:8080/",
          "height": 90
        }
      },
      "cell_type": "code",
      "source": [
        "x_train = np.array(x_train, dtype = 'float32')\n",
        "x_test = np.array(x_test, dtype = 'float32')\n",
        "y_train = np.array(y_train, dtype = 'float32')\n",
        "y_test = np.array(y_test, dtype = 'float32')\n",
        "print(x_train.shape)\n",
        "print(x_test.shape)\n",
        "print(y_train.shape)\n",
        "print(y_test.shape)"
      ],
      "execution_count": 11,
      "outputs": [
        {
          "output_type": "stream",
          "text": [
            "(4972, 224, 224)\n",
            "(878, 224, 224)\n",
            "(4972, 3)\n",
            "(878, 3)\n"
          ],
          "name": "stdout"
        }
      ]
    },
    {
      "metadata": {
        "id": "nIz20JjMSusN",
        "colab_type": "code",
        "colab": {}
      },
      "cell_type": "code",
      "source": [
        "x_train = x_train/255."
      ],
      "execution_count": 0,
      "outputs": []
    },
    {
      "metadata": {
        "id": "clod-1mjS4tk",
        "colab_type": "code",
        "outputId": "6565484d-137e-496d-be0a-c3af38598c6f",
        "colab": {
          "base_uri": "https://localhost:8080/",
          "height": 35
        }
      },
      "cell_type": "code",
      "source": [
        "print(np.mean(x_train))"
      ],
      "execution_count": 0,
      "outputs": [
        {
          "output_type": "stream",
          "text": [
            "0.20000242\n"
          ],
          "name": "stdout"
        }
      ]
    },
    {
      "metadata": {
        "id": "Obx9E6Z9S850",
        "colab_type": "code",
        "outputId": "fd1388af-6847-4585-dda2-8f931033e87a",
        "colab": {
          "base_uri": "https://localhost:8080/",
          "height": 35
        }
      },
      "cell_type": "code",
      "source": [
        "print(np.max(x_train))"
      ],
      "execution_count": 0,
      "outputs": [
        {
          "output_type": "stream",
          "text": [
            "1.0\n"
          ],
          "name": "stdout"
        }
      ]
    },
    {
      "metadata": {
        "id": "kQRIt2W7TCns",
        "colab_type": "code",
        "outputId": "69268099-1941-45af-813c-48b9629783f4",
        "colab": {
          "base_uri": "https://localhost:8080/",
          "height": 35
        }
      },
      "cell_type": "code",
      "source": [
        "x_train.shape"
      ],
      "execution_count": 0,
      "outputs": [
        {
          "output_type": "execute_result",
          "data": {
            "text/plain": [
              "(4972, 224, 224)"
            ]
          },
          "metadata": {
            "tags": []
          },
          "execution_count": 18
        }
      ]
    },
    {
      "metadata": {
        "id": "_2U4PVUVaBQ9",
        "colab_type": "code",
        "outputId": "cadec188-edb4-4cdd-d121-840e5e4f5bf7",
        "colab": {
          "base_uri": "https://localhost:8080/",
          "height": 35
        }
      },
      "cell_type": "code",
      "source": [
        "x_test.shape"
      ],
      "execution_count": 0,
      "outputs": [
        {
          "output_type": "execute_result",
          "data": {
            "text/plain": [
              "(878, 224, 224)"
            ]
          },
          "metadata": {
            "tags": []
          },
          "execution_count": 26
        }
      ]
    },
    {
      "metadata": {
        "id": "Lp4dxzB3ZXxJ",
        "colab_type": "code",
        "colab": {}
      },
      "cell_type": "code",
      "source": [
        "import matplotlib.pyplot as plt\n",
        " \n",
        "from sklearn.model_selection import train_test_split\n",
        "from sklearn.datasets import fetch_lfw_people\n",
        "from sklearn.metrics import classification_report\n",
        "from sklearn.decomposition import PCA\n",
        "from sklearn.neural_network import MLPClassifier"
      ],
      "execution_count": 0,
      "outputs": []
    },
    {
      "metadata": {
        "id": "vPDJ0axOZtjW",
        "colab_type": "code",
        "colab": {}
      },
      "cell_type": "code",
      "source": [
        "x_train2 = x_train.reshape(4972,224*224)"
      ],
      "execution_count": 0,
      "outputs": []
    },
    {
      "metadata": {
        "id": "FBFn6TvTZ1I9",
        "colab_type": "code",
        "outputId": "d1632f36-3b42-4f43-b06e-94f942139631",
        "colab": {
          "base_uri": "https://localhost:8080/",
          "height": 35
        }
      },
      "cell_type": "code",
      "source": [
        "x_train2.shape"
      ],
      "execution_count": 15,
      "outputs": [
        {
          "output_type": "execute_result",
          "data": {
            "text/plain": [
              "(4972, 50176)"
            ]
          },
          "metadata": {
            "tags": []
          },
          "execution_count": 15
        }
      ]
    },
    {
      "metadata": {
        "id": "FzpGEGGoZ8jO",
        "colab_type": "code",
        "outputId": "ea7d8d2b-c560-4672-8183-c722e0cb44fe",
        "colab": {
          "base_uri": "https://localhost:8080/",
          "height": 35
        }
      },
      "cell_type": "code",
      "source": [
        "x_test2 = x_test.reshape(878,224*224)\n",
        "print(x_test2.shape)"
      ],
      "execution_count": 16,
      "outputs": [
        {
          "output_type": "stream",
          "text": [
            "(878, 50176)\n"
          ],
          "name": "stdout"
        }
      ]
    },
    {
      "metadata": {
        "id": "KB8KT7bFY314",
        "colab_type": "code",
        "colab": {}
      },
      "cell_type": "code",
      "source": [
        "# Eigen Face\n",
        "# Reference: https://pythonmachinelearning.pro/face-recognition-with-eigenfaces/\n",
        "\n",
        "# Compute a PCA \n",
        "n_components = 224\n",
        "pca = PCA(n_components=n_components, whiten=True).fit(x_train2)\n",
        " \n",
        "# apply PCA transformation\n",
        "x_train_pca = pca.transform(x_train2)\n",
        "x_test_pca = pca.transform(x_test2)"
      ],
      "execution_count": 0,
      "outputs": []
    },
    {
      "metadata": {
        "id": "M_FAnWO0ZTDw",
        "colab_type": "code",
        "colab": {}
      },
      "cell_type": "code",
      "source": [
        "import pickle"
      ],
      "execution_count": 0,
      "outputs": []
    },
    {
      "metadata": {
        "id": "5up654m1b0aX",
        "colab_type": "code",
        "colab": {}
      },
      "cell_type": "code",
      "source": [
        "from sklearn import svm # using svm for classification, less number of parameters\n",
        "clf = svm.SVC(C=  5, gamma=0.00001, kernel = 'linear')"
      ],
      "execution_count": 0,
      "outputs": []
    },
    {
      "metadata": {
        "id": "wg01GnQTowuY",
        "colab_type": "code",
        "outputId": "11457e03-a200-43a3-e892-60e82399f4b6",
        "colab": {
          "base_uri": "https://localhost:8080/",
          "height": 90
        }
      },
      "cell_type": "code",
      "source": [
        "clf"
      ],
      "execution_count": 20,
      "outputs": [
        {
          "output_type": "execute_result",
          "data": {
            "text/plain": [
              "SVC(C=5, cache_size=200, class_weight=None, coef0=0.0,\n",
              "  decision_function_shape='ovr', degree=3, gamma=1e-05, kernel='linear',\n",
              "  max_iter=-1, probability=False, random_state=None, shrinking=True,\n",
              "  tol=0.001, verbose=False)"
            ]
          },
          "metadata": {
            "tags": []
          },
          "execution_count": 20
        }
      ]
    },
    {
      "metadata": {
        "id": "n4WgA6IRpIXM",
        "colab_type": "code",
        "outputId": "5f84282d-62b2-4d0b-e4e6-6848071ddb0d",
        "colab": {
          "base_uri": "https://localhost:8080/",
          "height": 35
        }
      },
      "cell_type": "code",
      "source": [
        "x_train_pca.shape"
      ],
      "execution_count": 21,
      "outputs": [
        {
          "output_type": "execute_result",
          "data": {
            "text/plain": [
              "(4972, 224)"
            ]
          },
          "metadata": {
            "tags": []
          },
          "execution_count": 21
        }
      ]
    },
    {
      "metadata": {
        "id": "b7vvsn-PpLUk",
        "colab_type": "code",
        "outputId": "3db9f40d-d76a-4a81-9a06-df4023bec71d",
        "colab": {
          "base_uri": "https://localhost:8080/",
          "height": 35
        }
      },
      "cell_type": "code",
      "source": [
        "y_train.shape"
      ],
      "execution_count": 22,
      "outputs": [
        {
          "output_type": "execute_result",
          "data": {
            "text/plain": [
              "(4972, 3)"
            ]
          },
          "metadata": {
            "tags": []
          },
          "execution_count": 22
        }
      ]
    },
    {
      "metadata": {
        "id": "dw7a8CyZpgve",
        "colab_type": "code",
        "colab": {}
      },
      "cell_type": "code",
      "source": [
        "y_train_label = []\n",
        "\n",
        "for ohe in y_train:\n",
        "  if ohe[0] == 1:\n",
        "    y_train_label.append(0)\n",
        "  if ohe[1] == 1:\n",
        "    y_train_label.append(1)\n",
        "  if ohe[2] == 1:\n",
        "    y_train_label.append(2)"
      ],
      "execution_count": 0,
      "outputs": []
    },
    {
      "metadata": {
        "id": "i4Qoe9R9p-Go",
        "colab_type": "code",
        "outputId": "a982968f-8e32-4537-a04d-cd93eded1a30",
        "colab": {
          "base_uri": "https://localhost:8080/",
          "height": 35
        }
      },
      "cell_type": "code",
      "source": [
        "y_train_label[5]"
      ],
      "execution_count": 24,
      "outputs": [
        {
          "output_type": "execute_result",
          "data": {
            "text/plain": [
              "2"
            ]
          },
          "metadata": {
            "tags": []
          },
          "execution_count": 24
        }
      ]
    },
    {
      "metadata": {
        "id": "94o5MeiKqJsL",
        "colab_type": "code",
        "outputId": "d05d9e34-9f40-4b0f-bf3a-ba3c7528b99c",
        "colab": {
          "base_uri": "https://localhost:8080/",
          "height": 35
        }
      },
      "cell_type": "code",
      "source": [
        "print(len(y_train_label))"
      ],
      "execution_count": 25,
      "outputs": [
        {
          "output_type": "stream",
          "text": [
            "4972\n"
          ],
          "name": "stdout"
        }
      ]
    },
    {
      "metadata": {
        "id": "DIYfbjzAox7x",
        "colab_type": "code",
        "outputId": "117261fd-501a-4090-88fa-3118928e13a6",
        "colab": {
          "base_uri": "https://localhost:8080/",
          "height": 90
        }
      },
      "cell_type": "code",
      "source": [
        "clf.fit(x_train_pca, y_train_label)"
      ],
      "execution_count": 26,
      "outputs": [
        {
          "output_type": "execute_result",
          "data": {
            "text/plain": [
              "SVC(C=5, cache_size=200, class_weight=None, coef0=0.0,\n",
              "  decision_function_shape='ovr', degree=3, gamma=1e-05, kernel='linear',\n",
              "  max_iter=-1, probability=False, random_state=None, shrinking=True,\n",
              "  tol=0.001, verbose=False)"
            ]
          },
          "metadata": {
            "tags": []
          },
          "execution_count": 26
        }
      ]
    },
    {
      "metadata": {
        "id": "EagJnvYqo9aT",
        "colab_type": "code",
        "colab": {}
      },
      "cell_type": "code",
      "source": [
        "y_t = clf.predict(x_train_pca)"
      ],
      "execution_count": 0,
      "outputs": []
    },
    {
      "metadata": {
        "id": "ES0QlE-OtRCE",
        "colab_type": "code",
        "colab": {
          "base_uri": "https://localhost:8080/",
          "height": 35
        },
        "outputId": "d210c21c-2d05-4010-bd02-2d2557b4969e"
      },
      "cell_type": "code",
      "source": [
        "print(y_t)"
      ],
      "execution_count": 41,
      "outputs": [
        {
          "output_type": "stream",
          "text": [
            "[2 0 2 ... 0 0 1]\n"
          ],
          "name": "stdout"
        }
      ]
    },
    {
      "metadata": {
        "id": "10E0nXOJq9Gi",
        "colab_type": "code",
        "outputId": "5b77d519-b469-4f21-8f5e-5c89859350da",
        "colab": {
          "base_uri": "https://localhost:8080/",
          "height": 347
        }
      },
      "cell_type": "code",
      "source": [
        "import matplotlib.pyplot as plt\n",
        "\n",
        "plt.hist(y_t)\n",
        "plt.show()"
      ],
      "execution_count": 29,
      "outputs": [
        {
          "output_type": "display_data",
          "data": {
            "image/png": "[encoded data removed]",
            "text/plain": [
              "<matplotlib.figure.Figure at 0x7ff7f5863278>"
            ]
          },
          "metadata": {
            "tags": []
          }
        }
      ]
    },
    {
      "metadata": {
        "id": "q2J8NEH4u1Y_",
        "colab_type": "code",
        "outputId": "b60b3f76-4a42-46e4-99d0-bdd41e8ae439",
        "colab": {
          "base_uri": "https://localhost:8080/",
          "height": 35
        }
      },
      "cell_type": "code",
      "source": [
        "score = np.sum(y_train_label==y_t)/len(y_t)\n",
        "print(score)"
      ],
      "execution_count": 30,
      "outputs": [
        {
          "output_type": "stream",
          "text": [
            "0.8799275945293644\n"
          ],
          "name": "stdout"
        }
      ]
    },
    {
      "metadata": {
        "id": "DvJGJUXirSZx",
        "colab_type": "code",
        "outputId": "f2070928-4ca5-44c5-c6f5-030bca79a8f2",
        "colab": {
          "base_uri": "https://localhost:8080/",
          "height": 347
        }
      },
      "cell_type": "code",
      "source": [
        "y_ts = clf.predict(x_test_pca)\n",
        "plt.hist(y_ts)\n",
        "plt.show()"
      ],
      "execution_count": 31,
      "outputs": [
        {
          "output_type": "display_data",
          "data": {
            "image/png": "[encoded data removed]",
            "text/plain": [
              "<matplotlib.figure.Figure at 0x7ff7f5776048>"
            ]
          },
          "metadata": {
            "tags": []
          }
        }
      ]
    },
    {
      "metadata": {
        "id": "uv_Bn3XSrert",
        "colab_type": "code",
        "colab": {}
      },
      "cell_type": "code",
      "source": [
        "y_test_label = []\n",
        "\n",
        "for ohe in y_test:\n",
        "  if ohe[0] == 1:\n",
        "    y_test_label.append(0)\n",
        "  if ohe[1] == 1:\n",
        "    y_test_label.append(1)\n",
        "  if ohe[2] == 1:\n",
        "    y_test_label.append(2)"
      ],
      "execution_count": 0,
      "outputs": []
    },
    {
      "metadata": {
        "id": "cJwjG_gExalm",
        "colab_type": "code",
        "outputId": "21a25f64-9871-4f93-ad0d-d2862bc63fea",
        "colab": {
          "base_uri": "https://localhost:8080/",
          "height": 35
        }
      },
      "cell_type": "code",
      "source": [
        "print(len(y_test_label))"
      ],
      "execution_count": 33,
      "outputs": [
        {
          "output_type": "stream",
          "text": [
            "878\n"
          ],
          "name": "stdout"
        }
      ]
    },
    {
      "metadata": {
        "id": "AS3If7UksrWq",
        "colab_type": "code",
        "colab": {}
      },
      "cell_type": "code",
      "source": [
        "score = np.sum(y_test_label==y_ts)/len(y_ts)"
      ],
      "execution_count": 0,
      "outputs": []
    },
    {
      "metadata": {
        "id": "oU1mRTvYsyxb",
        "colab_type": "code",
        "outputId": "d4492ca0-5b36-4839-97ef-c3e96b74eb12",
        "colab": {
          "base_uri": "https://localhost:8080/",
          "height": 35
        }
      },
      "cell_type": "code",
      "source": [
        "print(score)"
      ],
      "execution_count": 35,
      "outputs": [
        {
          "output_type": "stream",
          "text": [
            "0.7619589977220956\n"
          ],
          "name": "stdout"
        }
      ]
    },
    {
      "metadata": {
        "id": "vEda192us0YQ",
        "colab_type": "code",
        "outputId": "3d0670d4-dfe7-4447-c394-0c123523a59c",
        "colab": {
          "base_uri": "https://localhost:8080/",
          "height": 35
        }
      },
      "cell_type": "code",
      "source": [
        "print(len(y_ts))"
      ],
      "execution_count": 0,
      "outputs": [
        {
          "output_type": "stream",
          "text": [
            "878\n"
          ],
          "name": "stdout"
        }
      ]
    },
    {
      "metadata": {
        "id": "u3fFgAvTs3LZ",
        "colab_type": "code",
        "colab": {}
      },
      "cell_type": "code",
      "source": [
        "filename = '/content/svm_model.sav'\n",
        "pickle.dump(clf, open(filename, 'wb'))"
      ],
      "execution_count": 0,
      "outputs": []
    },
    {
      "metadata": {
        "id": "7bMf8g9poDY_",
        "colab_type": "code",
        "colab": {}
      },
      "cell_type": "code",
      "source": [
        "filename = '/content/pca_uns.sav'\n",
        "pickle.dump(pca, open(filename, 'wb'))"
      ],
      "execution_count": 0,
      "outputs": []
    },
    {
      "metadata": {
        "id": "GayVU706s5IS",
        "colab_type": "code",
        "outputId": "78bc9350-3529-4a48-c656-79d5d1b224c5",
        "colab": {
          "base_uri": "https://localhost:8080/",
          "height": 35
        }
      },
      "cell_type": "code",
      "source": [
        "# load the model from disk\n",
        "loaded_model = pickle.load(open(filename, 'rb'))\n",
        "result = loaded_model.score(x_test_pca, y_test_label)\n",
        "print(result)"
      ],
      "execution_count": 0,
      "outputs": [
        {
          "output_type": "stream",
          "text": [
            "0.744874715261959\n"
          ],
          "name": "stdout"
        }
      ]
    },
    {
      "metadata": {
        "id": "59s3ZNacoNYv",
        "colab_type": "code",
        "colab": {}
      },
      "cell_type": "code",
      "source": [
        "# load the model from disk\n",
        "loaded_model = pickle.load(open(filename, 'rb'))\n",
        "result = loaded_model.transform(x_test2)"
      ],
      "execution_count": 0,
      "outputs": []
    },
    {
      "metadata": {
        "id": "Ofz-rWC1ztcu",
        "colab_type": "code",
        "outputId": "2fab8da7-5d3a-406f-dc97-73be64d24f00",
        "colab": {
          "base_uri": "https://localhost:8080/",
          "height": 365
        }
      },
      "cell_type": "code",
      "source": [
        "! pip install pydrive"
      ],
      "execution_count": 38,
      "outputs": [
        {
          "output_type": "stream",
          "text": [
            "Collecting pydrive\n",
            "\u001b[?25l  Downloading https://files.pythonhosted.org/packages/52/e0/0e64788e5dd58ce2d6934549676243dc69d982f198524be9b99e9c2a4fd5/PyDrive-1.3.1.tar.gz (987kB)\n",
            "\u001b[K    100% |████████████████████████████████| 993kB 17.5MB/s \n",
            "\u001b[?25hRequirement already satisfied: google-api-python-client>=1.2 in /usr/local/lib/python3.6/dist-packages (from pydrive) (1.6.7)\n",
            "Requirement already satisfied: oauth2client>=4.0.0 in /usr/local/lib/python3.6/dist-packages (from pydrive) (4.1.3)\n",
            "Requirement already satisfied: PyYAML>=3.0 in /usr/local/lib/python3.6/dist-packages (from pydrive) (3.13)\n",
            "Requirement already satisfied: six<2dev,>=1.6.1 in /usr/local/lib/python3.6/dist-packages (from google-api-python-client>=1.2->pydrive) (1.11.0)\n",
            "Requirement already satisfied: uritemplate<4dev,>=3.0.0 in /usr/local/lib/python3.6/dist-packages (from google-api-python-client>=1.2->pydrive) (3.0.0)\n",
            "Requirement already satisfied: httplib2<1dev,>=0.9.2 in /usr/local/lib/python3.6/dist-packages (from google-api-python-client>=1.2->pydrive) (0.11.3)\n",
            "Requirement already satisfied: pyasn1-modules>=0.0.5 in /usr/local/lib/python3.6/dist-packages (from oauth2client>=4.0.0->pydrive) (0.2.2)\n",
            "Requirement already satisfied: pyasn1>=0.1.7 in /usr/local/lib/python3.6/dist-packages (from oauth2client>=4.0.0->pydrive) (0.4.4)\n",
            "Requirement already satisfied: rsa>=3.1.4 in /usr/local/lib/python3.6/dist-packages (from oauth2client>=4.0.0->pydrive) (4.0)\n",
            "Building wheels for collected packages: pydrive\n",
            "  Running setup.py bdist_wheel for pydrive ... \u001b[?25l-\b \b\\\b \bdone\n",
            "\u001b[?25h  Stored in directory: /root/.cache/pip/wheels/fa/d2/9a/d3b6b506c2da98289e5d417215ce34b696db856643bad779f4\n",
            "Successfully built pydrive\n",
            "Installing collected packages: pydrive\n",
            "Successfully installed pydrive-1.3.1\n"
          ],
          "name": "stdout"
        }
      ]
    },
    {
      "metadata": {
        "id": "rdbhb2muzwVP",
        "colab_type": "code",
        "outputId": "f2021519-1de8-4610-dc9d-49ee589619ff",
        "colab": {
          "base_uri": "https://localhost:8080/",
          "height": 35
        }
      },
      "cell_type": "code",
      "source": [
        "\n",
        "from pydrive.auth import GoogleAuth\n",
        "from pydrive.drive import GoogleDrive\n",
        "from google.colab import auth\n",
        "from oauth2client.client import GoogleCredentials\n",
        "\n",
        "\n",
        "# Authenticate and create the PyDrive client.\n",
        "# This only needs to be done once in a notebook.\n",
        "auth.authenticate_user()\n",
        "gauth = GoogleAuth()\n",
        "gauth.credentials = GoogleCredentials.get_application_default()\n",
        "drive = GoogleDrive(gauth)\n",
        "# Create & upload a file.\n",
        "uploaded = drive.CreateFile({'title': 'svm_model.sav'})\n",
        "uploaded.SetContentFile('/content/svm_model.sav')\n",
        "uploaded.Upload()\n",
        "print('Uploaded file with ID {}'.format(uploaded.get('id')))"
      ],
      "execution_count": 0,
      "outputs": [
        {
          "output_type": "stream",
          "text": [
            "Uploaded file with ID 1O_EBYmE1HuX5vcTrzG9Cw1Md4EojjsAx\n"
          ],
          "name": "stdout"
        }
      ]
    },
    {
      "metadata": {
        "id": "q4T9ip65og3w",
        "colab_type": "code",
        "colab": {
          "base_uri": "https://localhost:8080/",
          "height": 35
        },
        "outputId": "db54a8e2-b157-49f6-8828-2336197a2afb"
      },
      "cell_type": "code",
      "source": [
        "\n",
        "from pydrive.auth import GoogleAuth\n",
        "from pydrive.drive import GoogleDrive\n",
        "from google.colab import auth\n",
        "from oauth2client.client import GoogleCredentials\n",
        "\n",
        "\n",
        "# Authenticate and create the PyDrive client.\n",
        "# This only needs to be done once in a notebook.\n",
        "auth.authenticate_user()\n",
        "gauth = GoogleAuth()\n",
        "gauth.credentials = GoogleCredentials.get_application_default()\n",
        "drive = GoogleDrive(gauth)\n",
        "# Create & upload a file.\n",
        "uploaded = drive.CreateFile({'title': 'pca_uns.sav'})\n",
        "uploaded.SetContentFile('/content/pca_uns.sav')\n",
        "uploaded.Upload()\n",
        "print('Uploaded file with ID {}'.format(uploaded.get('id')))"
      ],
      "execution_count": 39,
      "outputs": [
        {
          "output_type": "stream",
          "text": [
            "Uploaded file with ID 1xx0Nnravy8MIn5v_aqFsTXDxbwCGCOxZ\n"
          ],
          "name": "stdout"
        }
      ]
    },
    {
      "metadata": {
        "id": "Zo3UFcbVz870",
        "colab_type": "code",
        "colab": {}
      },
      "cell_type": "code",
      "source": [
        ""
      ],
      "execution_count": 0,
      "outputs": []
    }
  ]
}